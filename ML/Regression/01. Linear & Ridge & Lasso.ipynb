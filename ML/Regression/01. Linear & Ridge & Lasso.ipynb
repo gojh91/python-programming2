{
 "cells": [
  {
   "cell_type": "code",
   "execution_count": 948,
   "metadata": {},
   "outputs": [],
   "source": [
    "%matplotlib inline\n",
    "\n",
    "import numpy as np\n",
    "from sklearn.datasets import load_boston\n",
    "from matplotlib import pyplot as plt\n",
    "from sklearn.model_selection import train_test_split, cross_val_score\n",
    "\n",
    "try:\n",
    "    from mglearn.datasets import load_extended_boston\n",
    "except:\n",
    "    import sys\n",
    "    !{sys.executable} -m pip install mglearn\n",
    "finally:\n",
    "    from mglearn.datasets import load_extended_boston\n",
    "import pandas as pd\n",
    "\n",
    "from sklearn.linear_model import LinearRegression, Ridge, Lasso\n",
    "\n"
   ]
  },
  {
   "cell_type": "code",
   "execution_count": 766,
   "metadata": {},
   "outputs": [],
   "source": [
    "boston = load_boston()"
   ]
  },
  {
   "cell_type": "code",
   "execution_count": 767,
   "metadata": {},
   "outputs": [],
   "source": [
    "X = pd.DataFrame(boston.data, columns=boston.feature_names)\n",
    "y = pd.DataFrame(boston.target, columns=['price'])"
   ]
  },
  {
   "cell_type": "code",
   "execution_count": 768,
   "metadata": {},
   "outputs": [
    {
     "data": {
      "text/html": [
       "<div>\n",
       "<style scoped>\n",
       "    .dataframe tbody tr th:only-of-type {\n",
       "        vertical-align: middle;\n",
       "    }\n",
       "\n",
       "    .dataframe tbody tr th {\n",
       "        vertical-align: top;\n",
       "    }\n",
       "\n",
       "    .dataframe thead th {\n",
       "        text-align: right;\n",
       "    }\n",
       "</style>\n",
       "<table border=\"1\" class=\"dataframe\">\n",
       "  <thead>\n",
       "    <tr style=\"text-align: right;\">\n",
       "      <th></th>\n",
       "      <th>CRIM</th>\n",
       "      <th>ZN</th>\n",
       "      <th>INDUS</th>\n",
       "      <th>CHAS</th>\n",
       "      <th>NOX</th>\n",
       "      <th>RM</th>\n",
       "      <th>AGE</th>\n",
       "      <th>DIS</th>\n",
       "      <th>RAD</th>\n",
       "      <th>TAX</th>\n",
       "      <th>PTRATIO</th>\n",
       "      <th>B</th>\n",
       "      <th>LSTAT</th>\n",
       "    </tr>\n",
       "  </thead>\n",
       "  <tbody>\n",
       "    <tr>\n",
       "      <th>0</th>\n",
       "      <td>0.00632</td>\n",
       "      <td>18.0</td>\n",
       "      <td>2.31</td>\n",
       "      <td>0.0</td>\n",
       "      <td>0.538</td>\n",
       "      <td>6.575</td>\n",
       "      <td>65.2</td>\n",
       "      <td>4.0900</td>\n",
       "      <td>1.0</td>\n",
       "      <td>296.0</td>\n",
       "      <td>15.3</td>\n",
       "      <td>396.90</td>\n",
       "      <td>4.98</td>\n",
       "    </tr>\n",
       "    <tr>\n",
       "      <th>1</th>\n",
       "      <td>0.02731</td>\n",
       "      <td>0.0</td>\n",
       "      <td>7.07</td>\n",
       "      <td>0.0</td>\n",
       "      <td>0.469</td>\n",
       "      <td>6.421</td>\n",
       "      <td>78.9</td>\n",
       "      <td>4.9671</td>\n",
       "      <td>2.0</td>\n",
       "      <td>242.0</td>\n",
       "      <td>17.8</td>\n",
       "      <td>396.90</td>\n",
       "      <td>9.14</td>\n",
       "    </tr>\n",
       "    <tr>\n",
       "      <th>2</th>\n",
       "      <td>0.02729</td>\n",
       "      <td>0.0</td>\n",
       "      <td>7.07</td>\n",
       "      <td>0.0</td>\n",
       "      <td>0.469</td>\n",
       "      <td>7.185</td>\n",
       "      <td>61.1</td>\n",
       "      <td>4.9671</td>\n",
       "      <td>2.0</td>\n",
       "      <td>242.0</td>\n",
       "      <td>17.8</td>\n",
       "      <td>392.83</td>\n",
       "      <td>4.03</td>\n",
       "    </tr>\n",
       "    <tr>\n",
       "      <th>3</th>\n",
       "      <td>0.03237</td>\n",
       "      <td>0.0</td>\n",
       "      <td>2.18</td>\n",
       "      <td>0.0</td>\n",
       "      <td>0.458</td>\n",
       "      <td>6.998</td>\n",
       "      <td>45.8</td>\n",
       "      <td>6.0622</td>\n",
       "      <td>3.0</td>\n",
       "      <td>222.0</td>\n",
       "      <td>18.7</td>\n",
       "      <td>394.63</td>\n",
       "      <td>2.94</td>\n",
       "    </tr>\n",
       "    <tr>\n",
       "      <th>4</th>\n",
       "      <td>0.06905</td>\n",
       "      <td>0.0</td>\n",
       "      <td>2.18</td>\n",
       "      <td>0.0</td>\n",
       "      <td>0.458</td>\n",
       "      <td>7.147</td>\n",
       "      <td>54.2</td>\n",
       "      <td>6.0622</td>\n",
       "      <td>3.0</td>\n",
       "      <td>222.0</td>\n",
       "      <td>18.7</td>\n",
       "      <td>396.90</td>\n",
       "      <td>5.33</td>\n",
       "    </tr>\n",
       "  </tbody>\n",
       "</table>\n",
       "</div>"
      ],
      "text/plain": [
       "      CRIM    ZN  INDUS  CHAS    NOX     RM   AGE     DIS  RAD    TAX  \\\n",
       "0  0.00632  18.0   2.31   0.0  0.538  6.575  65.2  4.0900  1.0  296.0   \n",
       "1  0.02731   0.0   7.07   0.0  0.469  6.421  78.9  4.9671  2.0  242.0   \n",
       "2  0.02729   0.0   7.07   0.0  0.469  7.185  61.1  4.9671  2.0  242.0   \n",
       "3  0.03237   0.0   2.18   0.0  0.458  6.998  45.8  6.0622  3.0  222.0   \n",
       "4  0.06905   0.0   2.18   0.0  0.458  7.147  54.2  6.0622  3.0  222.0   \n",
       "\n",
       "   PTRATIO       B  LSTAT  \n",
       "0     15.3  396.90   4.98  \n",
       "1     17.8  396.90   9.14  \n",
       "2     17.8  392.83   4.03  \n",
       "3     18.7  394.63   2.94  \n",
       "4     18.7  396.90   5.33  "
      ]
     },
     "execution_count": 768,
     "metadata": {},
     "output_type": "execute_result"
    }
   ],
   "source": [
    "X.head()"
   ]
  },
  {
   "cell_type": "code",
   "execution_count": 769,
   "metadata": {},
   "outputs": [
    {
     "data": {
      "text/html": [
       "<div>\n",
       "<style scoped>\n",
       "    .dataframe tbody tr th:only-of-type {\n",
       "        vertical-align: middle;\n",
       "    }\n",
       "\n",
       "    .dataframe tbody tr th {\n",
       "        vertical-align: top;\n",
       "    }\n",
       "\n",
       "    .dataframe thead th {\n",
       "        text-align: right;\n",
       "    }\n",
       "</style>\n",
       "<table border=\"1\" class=\"dataframe\">\n",
       "  <thead>\n",
       "    <tr style=\"text-align: right;\">\n",
       "      <th></th>\n",
       "      <th>price</th>\n",
       "    </tr>\n",
       "  </thead>\n",
       "  <tbody>\n",
       "    <tr>\n",
       "      <th>0</th>\n",
       "      <td>24.0</td>\n",
       "    </tr>\n",
       "    <tr>\n",
       "      <th>1</th>\n",
       "      <td>21.6</td>\n",
       "    </tr>\n",
       "    <tr>\n",
       "      <th>2</th>\n",
       "      <td>34.7</td>\n",
       "    </tr>\n",
       "    <tr>\n",
       "      <th>3</th>\n",
       "      <td>33.4</td>\n",
       "    </tr>\n",
       "    <tr>\n",
       "      <th>4</th>\n",
       "      <td>36.2</td>\n",
       "    </tr>\n",
       "  </tbody>\n",
       "</table>\n",
       "</div>"
      ],
      "text/plain": [
       "   price\n",
       "0   24.0\n",
       "1   21.6\n",
       "2   34.7\n",
       "3   33.4\n",
       "4   36.2"
      ]
     },
     "execution_count": 769,
     "metadata": {},
     "output_type": "execute_result"
    }
   ],
   "source": [
    "y.head()"
   ]
  },
  {
   "cell_type": "code",
   "execution_count": 770,
   "metadata": {},
   "outputs": [],
   "source": [
    "X_train, X_test, y_train, y_test = train_test_split(X, y, test_size=0.2, shuffle=True)"
   ]
  },
  {
   "cell_type": "code",
   "execution_count": 771,
   "metadata": {},
   "outputs": [],
   "source": [
    "model = LinearRegression()"
   ]
  },
  {
   "cell_type": "code",
   "execution_count": 774,
   "metadata": {},
   "outputs": [
    {
     "data": {
      "text/plain": [
       "LinearRegression(copy_X=True, fit_intercept=True, n_jobs=None,\n",
       "         normalize=False)"
      ]
     },
     "execution_count": 774,
     "metadata": {},
     "output_type": "execute_result"
    }
   ],
   "source": [
    "model.fit(X, y)"
   ]
  },
  {
   "cell_type": "code",
   "execution_count": 776,
   "metadata": {},
   "outputs": [
    {
     "data": {
      "text/plain": [
       "array([-1.08011358e-01,  4.64204584e-02,  2.05586264e-02,  2.68673382e+00,\n",
       "       -1.77666112e+01,  3.80986521e+00,  6.92224640e-04, -1.47556685e+00,\n",
       "        3.06049479e-01, -1.23345939e-02, -9.52747232e-01,  9.31168327e-03,\n",
       "       -5.24758378e-01])"
      ]
     },
     "execution_count": 776,
     "metadata": {},
     "output_type": "execute_result"
    }
   ],
   "source": [
    "model.coef_[0]"
   ]
  },
  {
   "cell_type": "code",
   "execution_count": 759,
   "metadata": {},
   "outputs": [
    {
     "data": {
      "text/plain": [
       "array([36.45948839])"
      ]
     },
     "execution_count": 759,
     "metadata": {},
     "output_type": "execute_result"
    }
   ],
   "source": [
    "model.intercept_"
   ]
  },
  {
   "cell_type": "code",
   "execution_count": 780,
   "metadata": {},
   "outputs": [
    {
     "data": {
      "text/plain": [
       "array([-1.08011358e-01,  4.64204584e-02,  2.05586264e-02,  2.68673382e+00,\n",
       "       -1.77666112e+01,  3.80986521e+00,  6.92224640e-04, -1.47556685e+00,\n",
       "        3.06049479e-01, -1.23345939e-02, -9.52747232e-01,  9.31168327e-03,\n",
       "       -5.24758378e-01])"
      ]
     },
     "execution_count": 780,
     "metadata": {},
     "output_type": "execute_result"
    }
   ],
   "source": [
    "model.coef_.reshape(-1)"
   ]
  },
  {
   "cell_type": "code",
   "execution_count": 781,
   "metadata": {},
   "outputs": [
    {
     "name": "stdout",
     "output_type": "stream",
     "text": [
      "('CRIM', -0.10801135783679539)\n",
      "('ZN', 0.04642045836687953)\n",
      "('INDUS', 0.020558626367068917)\n",
      "('CHAS', 2.6867338193448442)\n",
      "('NOX', -17.766611228299986)\n",
      "('RM', 3.8098652068092282)\n",
      "('AGE', 0.0006922246403431768)\n",
      "('DIS', -1.47556684560025)\n",
      "('RAD', 0.30604947898516427)\n",
      "('TAX', -0.012334593916574021)\n",
      "('PTRATIO', -0.9527472317072921)\n",
      "('B', 0.00931168327379375)\n",
      "('LSTAT', -0.5247583778554881)\n",
      "intercept [36.45948839]\n"
     ]
    }
   ],
   "source": [
    "for feature in zip(boston['feature_names'], model.coef_.reshape(-1)):\n",
    "    print(feature)\n",
    "print('intercept', model.intercept_)"
   ]
  },
  {
   "cell_type": "code",
   "execution_count": 782,
   "metadata": {},
   "outputs": [
    {
     "data": {
      "text/plain": [
       "0.7461235206791106"
      ]
     },
     "execution_count": 782,
     "metadata": {},
     "output_type": "execute_result"
    }
   ],
   "source": [
    "model.score(X_train, y_train)"
   ]
  },
  {
   "cell_type": "code",
   "execution_count": 783,
   "metadata": {},
   "outputs": [
    {
     "data": {
      "text/plain": [
       "0.7208121942952078"
      ]
     },
     "execution_count": 783,
     "metadata": {},
     "output_type": "execute_result"
    }
   ],
   "source": [
    "model.score(X_test, y_test)"
   ]
  },
  {
   "cell_type": "code",
   "execution_count": null,
   "metadata": {},
   "outputs": [],
   "source": []
  },
  {
   "cell_type": "markdown",
   "metadata": {},
   "source": [
    "# Ridge Regression"
   ]
  },
  {
   "cell_type": "code",
   "execution_count": 788,
   "metadata": {},
   "outputs": [],
   "source": [
    "X, y = load_extended_boston()"
   ]
  },
  {
   "cell_type": "code",
   "execution_count": 814,
   "metadata": {},
   "outputs": [],
   "source": [
    "X_train, X_test, y_train, y_test = train_test_split(X, y, test_size=0.2, shuffle=True, random_state=0)"
   ]
  },
  {
   "cell_type": "code",
   "execution_count": 815,
   "metadata": {},
   "outputs": [
    {
     "data": {
      "text/plain": [
       "LinearRegression(copy_X=True, fit_intercept=True, n_jobs=None,\n",
       "         normalize=False)"
      ]
     },
     "execution_count": 815,
     "metadata": {},
     "output_type": "execute_result"
    }
   ],
   "source": [
    "lm = LinearRegression()\n",
    "lm.fit(X_train, y_train)"
   ]
  },
  {
   "cell_type": "code",
   "execution_count": 816,
   "metadata": {},
   "outputs": [
    {
     "data": {
      "text/plain": [
       "0.949024096661283"
      ]
     },
     "execution_count": 816,
     "metadata": {},
     "output_type": "execute_result"
    }
   ],
   "source": [
    "lm.score(X_train, y_train)"
   ]
  },
  {
   "cell_type": "code",
   "execution_count": 817,
   "metadata": {},
   "outputs": [
    {
     "data": {
      "text/plain": [
       "0.6158858584078784"
      ]
     },
     "execution_count": 817,
     "metadata": {},
     "output_type": "execute_result"
    }
   ],
   "source": [
    "lm.score(X_test, y_test)"
   ]
  },
  {
   "cell_type": "code",
   "execution_count": 826,
   "metadata": {},
   "outputs": [
    {
     "data": {
      "text/plain": [
       "array([-4.90159819e+02, -4.00626206e+01, -1.25287218e+02, -8.91375244e+00,\n",
       "       -8.06560621e+00,  3.28101194e+01,  4.65516841e+01, -6.27045004e+01,\n",
       "        2.87358042e+01,  3.34139738e+01, -6.80132101e-01, -9.31619287e+00,\n",
       "       -1.61133582e+01,  1.21301779e+01,  2.21565994e+03,  1.53054044e+03,\n",
       "        1.24461620e+02, -1.27347248e+01,  4.24938302e+01, -3.54781532e+01,\n",
       "        8.91645918e+00,  1.22299456e+03, -2.15366399e+03,  2.74716329e+02,\n",
       "       -1.41233559e+00,  4.33324936e+01, -1.24082513e+01, -1.69004641e+01,\n",
       "       -6.04317656e+00, -8.15771683e+01,  9.02286325e+00,  4.10360549e-01,\n",
       "       -3.67270441e+00, -7.08564514e+00,  3.56048971e+01, -1.22564863e+01,\n",
       "        5.79039071e+01, -1.52297806e+01,  3.98426090e+01,  5.64809836e+00,\n",
       "        1.89043119e-01,  5.46913714e+01,  1.85814845e+01,  5.47572005e+01,\n",
       "       -4.58182836e+01,  2.16098573e+01, -1.01744270e+01,  5.46020392e+01,\n",
       "       -1.78903568e+01, -8.91375244e+00, -1.71954300e+01, -3.15047685e+01,\n",
       "        2.78399230e+00,  2.27112765e+00,  1.45281400e+01, -1.04841792e+01,\n",
       "       -9.52158347e+00,  4.64199952e+01, -1.40725252e+01, -2.49545446e+00,\n",
       "        2.49619128e+01, -1.36250586e+01,  8.70203229e+01, -3.27151211e+01,\n",
       "        5.53374978e+01, -4.96364911e+01,  2.10904061e+00,  2.39366870e+01,\n",
       "        2.14171750e+01, -4.64073871e+01,  2.69086034e+01,  9.06789867e+00,\n",
       "       -7.06381442e+01, -2.55903479e+01,  1.00391892e+01, -6.14801631e+00,\n",
       "        2.65660264e+00,  3.26416107e+00,  4.01543979e+01, -3.68823252e+01,\n",
       "       -5.64711473e+00, -2.32864107e+01, -3.19793810e+01,  5.33311471e+01,\n",
       "       -2.67324621e+01, -1.50875712e+01, -1.85014087e+01, -1.54121310e+01,\n",
       "        3.24131091e+01, -8.99503967e+01,  1.50482894e+02, -2.04257821e+01,\n",
       "       -1.31895526e+01, -2.78622507e+01, -3.46129966e+01,  2.40830654e+01,\n",
       "       -1.70819475e+01,  2.09266607e+00,  4.75613160e+00,  2.68408414e+01,\n",
       "        1.08100271e+01, -1.49307902e+00,  1.40969740e+00,  3.08628470e+01])"
      ]
     },
     "execution_count": 826,
     "metadata": {},
     "output_type": "execute_result"
    }
   ],
   "source": [
    "lm.coef_"
   ]
  },
  {
   "cell_type": "code",
   "execution_count": 825,
   "metadata": {},
   "outputs": [
    {
     "data": {
      "text/plain": [
       "<BarContainer object of 104 artists>"
      ]
     },
     "execution_count": 825,
     "metadata": {},
     "output_type": "execute_result"
    },
    {
     "data": {
      "image/png": "[encoded data removed]",
      "text/plain": [
       "<Figure size 1440x720 with 1 Axes>"
      ]
     },
     "metadata": {
      "needs_background": "light"
     },
     "output_type": "display_data"
    }
   ],
   "source": [
    "from matplotlib import pyplot as plt\n",
    "plt.figure(figsize=(20,10))\n",
    "plt.bar(np.arange(len(lm.coef_)), np.sort(lm.coef_, axis=0))"
   ]
  },
  {
   "cell_type": "code",
   "execution_count": 859,
   "metadata": {},
   "outputs": [
    {
     "data": {
      "text/plain": [
       "<BarContainer object of 104 artists>"
      ]
     },
     "execution_count": 859,
     "metadata": {},
     "output_type": "execute_result"
    },
    {
     "data": {
      "image/png": "[encoded data removed]",
      "text/plain": [
       "<Figure size 1440x720 with 1 Axes>"
      ]
     },
     "metadata": {
      "needs_background": "light"
     },
     "output_type": "display_data"
    }
   ],
   "source": [
    "plt.figure(figsize=(20,10))\n",
    "plt.bar(np.arange(len(lm.coef_)), np.sort(lm.coef_, axis=0))\n"
   ]
  },
  {
   "cell_type": "markdown",
   "metadata": {},
   "source": [
    "# Ridge"
   ]
  },
  {
   "cell_type": "code",
   "execution_count": 829,
   "metadata": {},
   "outputs": [
    {
     "data": {
      "text/plain": [
       "Ridge(alpha=0.1, copy_X=True, fit_intercept=True, max_iter=None,\n",
       "   normalize=False, random_state=None, solver='auto', tol=0.001)"
      ]
     },
     "execution_count": 829,
     "metadata": {},
     "output_type": "execute_result"
    }
   ],
   "source": [
    "Rm = Ridge(alpha=0.1)\n",
    "Rm.fit(X_train, y_train)"
   ]
  },
  {
   "cell_type": "code",
   "execution_count": 830,
   "metadata": {},
   "outputs": [
    {
     "data": {
      "text/plain": [
       "0.9261926604874953"
      ]
     },
     "execution_count": 830,
     "metadata": {},
     "output_type": "execute_result"
    }
   ],
   "source": [
    "Rm.score(X_train, y_train)"
   ]
  },
  {
   "cell_type": "code",
   "execution_count": 831,
   "metadata": {},
   "outputs": [
    {
     "data": {
      "text/plain": [
       "0.7463824108919297"
      ]
     },
     "execution_count": 831,
     "metadata": {},
     "output_type": "execute_result"
    }
   ],
   "source": [
    "Rm.score(X_test, y_test)"
   ]
  },
  {
   "cell_type": "code",
   "execution_count": 832,
   "metadata": {},
   "outputs": [
    {
     "data": {
      "text/plain": [
       "<BarContainer object of 104 artists>"
      ]
     },
     "execution_count": 832,
     "metadata": {},
     "output_type": "execute_result"
    },
    {
     "data": {
      "image/png": "[encoded data removed]",
      "text/plain": [
       "<Figure size 1440x720 with 1 Axes>"
      ]
     },
     "metadata": {
      "needs_background": "light"
     },
     "output_type": "display_data"
    }
   ],
   "source": [
    "from matplotlib import pyplot as plt\n",
    "plt.figure(figsize=(20,10))\n",
    "plt.bar(np.arange(len(Rm.coef_)), np.sort(Rm.coef_, axis=0))"
   ]
  },
  {
   "cell_type": "code",
   "execution_count": 849,
   "metadata": {},
   "outputs": [
    {
     "name": "stdout",
     "output_type": "stream",
     "text": [
      "alpha:0.0, train: 0.937985899627213, test: 0.766704574594288\n",
      "alpha:0.1, train: 0.914767278961281, test: 0.8353849069622123\n",
      "alpha:0.2, train: 0.9043473636982221, test: 0.8397297295685597\n",
      "alpha:0.3, train: 0.8969094049739403, test: 0.8378498899769549\n",
      "alpha:0.4, train: 0.8909682923429587, test: 0.8344525135942689\n",
      "alpha:0.5, train: 0.8859509963170463, test: 0.8306708598837347\n",
      "alpha:0.6, train: 0.881567955890946, test: 0.8268747348641007\n",
      "alpha:0.7, train: 0.8776506962669234, test: 0.8231978280069029\n",
      "alpha:0.8, train: 0.8740920130201625, test: 0.8196866783465233\n",
      "alpha:0.9, train: 0.8708192630213556, test: 0.8163525398153051\n",
      "alpha:1.0, train: 0.8677808502672848, test: 0.8131918788959596\n",
      "alpha:1.1, train: 0.8649387520709575, test: 0.8101951508980275\n",
      "alpha:1.2, train: 0.8622640995838693, test: 0.8073507378221588\n",
      "alpha:1.3, train: 0.8597344238012653, test: 0.8046467445276884\n",
      "alpha:1.4, train: 0.8573318653564599, test: 0.802071800392282\n",
      "alpha:1.5, train: 0.855041969554776, test: 0.7996153855393471\n",
      "alpha:1.6, train: 0.8528528512226916, test: 0.7972679275532805\n",
      "alpha:1.7, train: 0.8507546012120059, test: 0.7950207890734633\n",
      "alpha:1.8, train: 0.8487388553986077, test: 0.7928662064176129\n",
      "alpha:1.9, train: 0.8467984756843192, test: 0.7907972094952946\n",
      "alpha:2.0, train: 0.8449273098875218, test: 0.7888075380755076\n",
      "alpha:2.1, train: 0.8431200082698338, test: 0.7868915616250449\n",
      "alpha:2.2, train: 0.8413718814204235, test: 0.7850442058596511\n",
      "alpha:2.3, train: 0.8396787888057385, test: 0.7832608870493494\n",
      "alpha:2.4, train: 0.8380370503728434, test: 0.7815374540646044\n",
      "alpha:2.5, train: 0.836443375703261, test: 0.7798701376522046\n",
      "alpha:2.6, train: 0.8348948066826546, test: 0.7782555062271146\n",
      "alpha:2.7, train: 0.8333886706902557, test: 0.7766904274174365\n",
      "alpha:2.8, train: 0.8319225420569563, test: 0.7751720346270764\n",
      "alpha:2.9, train: 0.8304942100823545, test: 0.7736976979430086\n",
      "alpha:3.0, train: 0.8291016522991703, test: 0.7722649987888801\n",
      "alpha:3.1, train: 0.827743011969446, test: 0.7708717078025059\n",
      "alpha:3.2, train: 0.8264165790192902, test: 0.7695157654859358\n",
      "alpha:3.3, train: 0.825120773787515, test: 0.7681952652407864\n",
      "alpha:3.4, train: 0.8238541330924979, test: 0.7669084384577661\n",
      "alpha:3.5, train: 0.8226152982210974, test: 0.7656536413779591\n",
      "alpha:3.6, train: 0.8214030045208071, test: 0.7644293434851073\n",
      "alpha:3.7, train: 0.8202160723369127, test: 0.7632341172236277\n",
      "alpha:3.8, train: 0.8190533990842015, test: 0.7620666288672185\n",
      "alpha:3.9, train: 0.8179139522807, test: 0.7609256303884177\n",
      "alpha:4.0, train: 0.816796763401223, test: 0.7598099522010615\n",
      "alpha:4.1, train: 0.8157009224328603, test: 0.7587184966658583\n",
      "alpha:4.2, train: 0.8146255730342178, test: 0.757650232264764\n",
      "alpha:4.3, train: 0.8135699082162148, test: 0.756604188362956\n",
      "alpha:4.4, train: 0.8125331664753092, test: 0.755579450488334\n",
      "alpha:4.5, train: 0.8115146283207412, test: 0.7545751560679497\n",
      "alpha:4.6, train: 0.8105136131462387, test: 0.753590490568819\n",
      "alpha:4.7, train: 0.8095294764039518, test: 0.7526246839974702\n",
      "alpha:4.8, train: 0.8085616070444905, test: 0.7516770077184604\n",
      "alpha:4.9, train: 0.807609425192037, test: 0.7507467715571424\n",
      "alpha:5.0, train: 0.8066723800277865, test: 0.7498333211563075\n",
      "alpha:5.1, train: 0.8057499478585776, test: 0.7489360355600547\n",
      "alpha:5.2, train: 0.8048416303506232, test: 0.7480543250014682\n",
      "alpha:5.3, train: 0.8039469529108487, test: 0.7471876288734668\n",
      "alpha:5.4, train: 0.8030654632005454, test: 0.7463354138646073\n",
      "alpha:5.5, train: 0.8021967297679418, test: 0.745497172243722\n",
      "alpha:5.6, train: 0.8013403407879083, test: 0.744672420279094\n",
      "alpha:5.7, train: 0.8004959028984124, test: 0.7438606967794776\n",
      "alpha:5.8, train: 0.7996630401245381, test: 0.7430615617456512\n",
      "alpha:5.9, train: 0.7988413928819306, test: 0.7422745951224222\n",
      "alpha:6.0, train: 0.79803061705243, test: 0.7414993956420703\n",
      "alpha:6.1, train: 0.7972303831254495, test: 0.7407355797511584\n",
      "alpha:6.2, train: 0.7964403753993403, test: 0.7399827806134731\n",
      "alpha:6.3, train: 0.7956602912375886, test: 0.7392406471825906\n",
      "alpha:6.4, train: 0.7948898403752226, test: 0.7385088433382103\n",
      "alpha:6.5, train: 0.7941287442712726, test: 0.7377870470809804\n",
      "alpha:6.6, train: 0.7933767355035384, test: 0.7370749497810427\n",
      "alpha:6.7, train: 0.7926335572022837, test: 0.7363722554759872\n",
      "alpha:6.8, train: 0.7918989625197996, test: 0.7356786802143056\n",
      "alpha:6.9, train: 0.7911727141330673, test: 0.7349939514407997\n",
      "alpha:7.0, train: 0.790454583777003, test: 0.7343178074207205\n",
      "alpha:7.1, train: 0.789744351805999, test: 0.733649996699707\n",
      "alpha:7.2, train: 0.7890418067816809, test: 0.7329902775968515\n",
      "alpha:7.3, train: 0.7883467450849735, test: 0.7323384177284538\n",
      "alpha:7.4, train: 0.7876589705507466, test: 0.7316941935602332\n",
      "alpha:7.5, train: 0.7869782941234474, test: 0.731057389985964\n",
      "alpha:7.6, train: 0.7863045335322654, test: 0.730427799930662\n",
      "alpha:7.7, train: 0.7856375129844919, test: 0.7298052239766125\n",
      "alpha:7.8, train: 0.7849770628758515, test: 0.7291894700106651\n",
      "alpha:7.9, train: 0.7843230195166677, test: 0.7285803528913499\n",
      "alpha:8.0, train: 0.7836752248728329, test: 0.7279776941344811\n",
      "alpha:8.1, train: 0.7830335263206128, test: 0.7273813216160275\n",
      "alpha:8.2, train: 0.7823977764144068, test: 0.7267910692911129\n",
      "alpha:8.3, train: 0.7817678326666421, test: 0.7262067769281031\n",
      "alpha:8.4, train: 0.7811435573390431, test: 0.7256282898568165\n",
      "alpha:8.5, train: 0.7805248172445765, test: 0.7250554587299629\n",
      "alpha:8.6, train: 0.7799114835594176, test: 0.7244881392969832\n",
      "alpha:8.7, train: 0.7793034316443362, test: 0.7239261921895239\n",
      "alpha:8.8, train: 0.7787005408749391, test: 0.7233694827178349\n",
      "alpha:8.9, train: 0.7781026944802473, test: 0.7228178806774295\n",
      "alpha:9.0, train: 0.7775097793891208, test: 0.7222712601653927\n",
      "alpha:9.1, train: 0.7769216860840803, test: 0.7217294994057672\n",
      "alpha:9.2, train: 0.7763383084621006, test: 0.7211924805834842\n",
      "alpha:9.3, train: 0.7757595437019841, test: 0.7206600896863443\n",
      "alpha:9.4, train: 0.7751852921379435, test: 0.7201322163545867\n",
      "alpha:9.5, train: 0.7746154571390539, test: 0.7196087537376137\n",
      "alpha:9.6, train: 0.774049944994247, test: 0.7190895983574719\n",
      "alpha:9.7, train: 0.7734886648025509, test: 0.7185746499787085\n",
      "alpha:9.8, train: 0.7729315283682909, test: 0.7180638114842549\n",
      "alpha:9.9, train: 0.7723784501009873, test: 0.7175569887570068\n"
     ]
    }
   ],
   "source": [
    "minimum_score = -100\n",
    "minimum_alpha = 0\n",
    "best_model = None\n",
    "for i in list(range(0, 100, 1)):\n",
    "    i = i/10\n",
    "    \n",
    "    rm = Ridge(alpha=i)\n",
    "    rm.fit(X_train, y_train)\n",
    "    \n",
    "    \n",
    "    train_score = rm.score(X_train, y_train)\n",
    "    test_score = rm.score(X_test, y_test)\n",
    "    print('alpha:{}, train: {}, test: {}'.format(i, train_score, test_score))\n",
    "    if minimum_score < test_score:\n",
    "        minimum_score = test_score\n",
    "        minimum_alpha = i\n",
    "        best_model = rm\n"
   ]
  },
  {
   "cell_type": "code",
   "execution_count": 851,
   "metadata": {},
   "outputs": [
    {
     "data": {
      "text/plain": [
       "Ridge(alpha=0.2, copy_X=True, fit_intercept=True, max_iter=None,\n",
       "   normalize=False, random_state=None, solver='auto', tol=0.001)"
      ]
     },
     "execution_count": 851,
     "metadata": {},
     "output_type": "execute_result"
    }
   ],
   "source": [
    "best_model"
   ]
  },
  {
   "cell_type": "code",
   "execution_count": 857,
   "metadata": {},
   "outputs": [
    {
     "data": {
      "text/plain": [
       "<BarContainer object of 104 artists>"
      ]
     },
     "execution_count": 857,
     "metadata": {},
     "output_type": "execute_result"
    },
    {
     "data": {
      "image/png": "[encoded data removed]",
      "text/plain": [
       "<Figure size 1440x720 with 1 Axes>"
      ]
     },
     "metadata": {
      "needs_background": "light"
     },
     "output_type": "display_data"
    }
   ],
   "source": [
    "n = np.arange(len(best_model.coef_))\n",
    "\n",
    "plt.figure(figsize=(20,10))\n",
    "plt.bar(n, np.sort(best_model.coef_, axis=0))"
   ]
  },
  {
   "cell_type": "code",
   "execution_count": 865,
   "metadata": {},
   "outputs": [
    {
     "name": "stdout",
     "output_type": "stream",
     "text": [
      "alpha:10, train: 0.7718293469197013, test: 0.7170540905667923\n"
     ]
    }
   ],
   "source": [
    "rm = Ridge(alpha=10)\n",
    "rm.fit(X_train, y_train)\n",
    "    \n",
    "train_score = rm.score(X_train, y_train)\n",
    "test_score = rm.score(X_test, y_test)\n",
    "print('alpha:{}, train: {}, test: {}'.format(10, train_score, test_score))\n"
   ]
  },
  {
   "cell_type": "code",
   "execution_count": 867,
   "metadata": {},
   "outputs": [
    {
     "data": {
      "text/plain": [
       "array([-9.45523940e-01,  6.18376095e-01, -6.11613502e-01,  4.80623745e-01,\n",
       "       -6.79755824e-01,  4.61433522e+00, -6.09349884e-02, -2.72932302e+00,\n",
       "        1.16880420e+00, -1.17186768e+00, -2.17960517e+00,  1.04628298e+00,\n",
       "       -4.31051118e+00, -7.14356541e-01,  4.14349985e-03, -6.11409999e-01,\n",
       "        1.35857809e-01, -7.42553007e-01, -7.72741143e-01, -8.51253250e-01,\n",
       "       -6.28721330e-02, -9.82283979e-01, -8.88150542e-01, -7.95039630e-01,\n",
       "       -8.94733458e-01, -4.62164227e-01,  1.15190738e+00, -2.22717366e-01,\n",
       "        7.32587869e-01,  2.59788390e-01,  2.01702494e+00,  4.37566854e-02,\n",
       "       -3.19848189e-01,  9.72174334e-02, -5.08465079e-01, -1.06910669e-01,\n",
       "        6.57969334e-01, -6.16291490e-01,  7.49939355e-01,  1.89425710e-01,\n",
       "       -6.19304217e-01, -5.89080922e-01,  2.75667473e-01, -1.10956125e+00,\n",
       "        3.83462867e-01,  5.27863641e-01, -5.48686902e-01,  7.88935099e-02,\n",
       "       -1.41734874e+00,  4.80623745e-01, -6.05284037e-01,  6.29339422e-01,\n",
       "        1.69493274e-01,  6.42382707e-02,  9.47905420e-01,  8.34803223e-01,\n",
       "        3.11759368e-01,  6.96136498e-01, -9.59403548e-01, -1.44897105e+00,\n",
       "       -3.38324858e-01, -8.68397132e-01, -6.63555382e-01, -7.74825342e-01,\n",
       "       -9.94140636e-01, -1.44709397e+00,  3.50068514e-01, -1.67664816e+00,\n",
       "        7.64380485e+00,  1.33728087e+00,  4.84666039e-01, -9.89130086e-01,\n",
       "       -1.86589262e+00, -8.53737664e-01,  5.64305652e+00, -3.02582593e+00,\n",
       "        5.27048292e-01, -2.01639169e+00,  9.46559763e-01, -1.44935363e-01,\n",
       "       -1.68057530e+00,  3.63489160e-01, -2.89468638e+00, -1.16190192e+00,\n",
       "       -3.78375452e-01, -1.41517365e+00, -1.42819335e+00, -2.46185468e+00,\n",
       "       -1.58236864e+00,  6.97173370e-01,  4.52422702e-01,  4.09689965e-01,\n",
       "        1.60056895e+00, -1.84239413e+00,  1.41256478e-01, -4.01633576e-01,\n",
       "       -5.25377978e-01, -2.02289647e+00, -1.30525327e+00, -1.66613113e+00,\n",
       "       -2.26042701e+00,  7.56505051e-01, -4.18725336e+00, -1.09451493e-01])"
      ]
     },
     "execution_count": 867,
     "metadata": {},
     "output_type": "execute_result"
    }
   ],
   "source": [
    "rm.coef_"
   ]
  },
  {
   "cell_type": "markdown",
   "metadata": {},
   "source": [
    "### cross validation with Ridge"
   ]
  },
  {
   "cell_type": "code",
   "execution_count": 877,
   "metadata": {},
   "outputs": [
    {
     "name": "stdout",
     "output_type": "stream",
     "text": [
      "alpha:0.0, train: 0.937985899627213, test: 0.766704574594288\n",
      "alpha:0.1, train: 0.914767278961281, test: 0.8353849069622123\n",
      "alpha:0.2, train: 0.9043473636982221, test: 0.8397297295685597\n",
      "alpha:0.3, train: 0.8969094049739403, test: 0.8378498899769549\n",
      "alpha:0.4, train: 0.8909682923429587, test: 0.8344525135942689\n",
      "alpha:0.5, train: 0.8859509963170463, test: 0.8306708598837347\n",
      "alpha:0.6, train: 0.881567955890946, test: 0.8268747348641007\n",
      "alpha:0.7, train: 0.8776506962669234, test: 0.8231978280069029\n",
      "alpha:0.8, train: 0.8740920130201625, test: 0.8196866783465233\n",
      "alpha:0.9, train: 0.8708192630213556, test: 0.8163525398153051\n",
      "alpha:1.0, train: 0.8677808502672848, test: 0.8131918788959596\n",
      "alpha:1.1, train: 0.8649387520709575, test: 0.8101951508980275\n",
      "alpha:1.2, train: 0.8622640995838693, test: 0.8073507378221588\n",
      "alpha:1.3, train: 0.8597344238012653, test: 0.8046467445276884\n",
      "alpha:1.4, train: 0.8573318653564599, test: 0.802071800392282\n",
      "alpha:1.5, train: 0.855041969554776, test: 0.7996153855393471\n",
      "alpha:1.6, train: 0.8528528512226916, test: 0.7972679275532805"
     ]
    },
    {
     "name": "stderr",
     "output_type": "stream",
     "text": [
      "/Users/Mac/anaconda3/envs/lecture_env/lib/python3.7/site-packages/sklearn/linear_model/ridge.py:125: LinAlgWarning: Ill-conditioned matrix (rcond=9.41362e-19): result may not be accurate.\n",
      "  overwrite_a=True).T\n"
     ]
    },
    {
     "name": "stdout",
     "output_type": "stream",
     "text": [
      "\n",
      "alpha:1.7, train: 0.8507546012120059, test: 0.7950207890734633\n",
      "alpha:1.8, train: 0.8487388553986077, test: 0.7928662064176129\n",
      "alpha:1.9, train: 0.8467984756843192, test: 0.7907972094952946\n",
      "alpha:2.0, train: 0.8449273098875218, test: 0.7888075380755076\n",
      "alpha:2.1, train: 0.8431200082698338, test: 0.7868915616250449\n",
      "alpha:2.2, train: 0.8413718814204235, test: 0.7850442058596511\n",
      "alpha:2.3, train: 0.8396787888057385, test: 0.7832608870493494\n",
      "alpha:2.4, train: 0.8380370503728434, test: 0.7815374540646044\n",
      "alpha:2.5, train: 0.836443375703261, test: 0.7798701376522046\n",
      "alpha:2.6, train: 0.8348948066826546, test: 0.7782555062271146\n",
      "alpha:2.7, train: 0.8333886706902557, test: 0.7766904274174365\n",
      "alpha:2.8, train: 0.8319225420569563, test: 0.7751720346270764\n",
      "alpha:2.9, train: 0.8304942100823545, test: 0.7736976979430086\n",
      "alpha:3.0, train: 0.8291016522991703, test: 0.7722649987888801\n",
      "alpha:3.1, train: 0.827743011969446, test: 0.7708717078025059\n",
      "alpha:3.2, train: 0.8264165790192902, test: 0.7695157654859358\n",
      "alpha:3.3, train: 0.825120773787515, test: 0.7681952652407864\n",
      "alpha:3.4, train: 0.8238541330924979, test: 0.7669084384577661\n",
      "alpha:3.5, train: 0.8226152982210974, test: 0.7656536413779591\n",
      "alpha:3.6, train: 0.8214030045208071, test: 0.7644293434851073\n",
      "alpha:3.7, train: 0.8202160723369127, test: 0.7632341172236277\n",
      "alpha:3.8, train: 0.8190533990842015, test: 0.7620666288672185\n",
      "alpha:3.9, train: 0.8179139522807, test: 0.7609256303884177\n",
      "alpha:4.0, train: 0.816796763401223, test: 0.7598099522010615\n",
      "alpha:4.1, train: 0.8157009224328603, test: 0.7587184966658583\n",
      "alpha:4.2, train: 0.8146255730342178, test: 0.757650232264764\n",
      "alpha:4.3, train: 0.8135699082162148, test: 0.756604188362956\n",
      "alpha:4.4, train: 0.8125331664753092, test: 0.755579450488334\n",
      "alpha:4.5, train: 0.8115146283207412, test: 0.7545751560679497\n",
      "alpha:4.6, train: 0.8105136131462387, test: 0.753590490568819\n",
      "alpha:4.7, train: 0.8095294764039518, test: 0.7526246839974702\n",
      "alpha:4.8, train: 0.8085616070444905, test: 0.7516770077184604\n",
      "alpha:4.9, train: 0.807609425192037, test: 0.7507467715571424\n",
      "alpha:5.0, train: 0.8066723800277865, test: 0.7498333211563075\n",
      "alpha:5.1, train: 0.8057499478585776, test: 0.7489360355600547\n",
      "alpha:5.2, train: 0.8048416303506232, test: 0.7480543250014682\n",
      "alpha:5.3, train: 0.8039469529108487, test: 0.7471876288734668\n",
      "alpha:5.4, train: 0.8030654632005454, test: 0.7463354138646073\n",
      "alpha:5.5, train: 0.8021967297679418, test: 0.745497172243722\n",
      "alpha:5.6, train: 0.8013403407879083, test: 0.744672420279094\n",
      "alpha:5.7, train: 0.8004959028984124, test: 0.7438606967794776\n",
      "alpha:5.8, train: 0.7996630401245381, test: 0.7430615617456512\n",
      "alpha:5.9, train: 0.7988413928819306, test: 0.7422745951224222\n",
      "alpha:6.0, train: 0.79803061705243, test: 0.7414993956420703\n",
      "alpha:6.1, train: 0.7972303831254495, test: 0.7407355797511584\n",
      "alpha:6.2, train: 0.7964403753993403, test: 0.7399827806134731\n",
      "alpha:6.3, train: 0.7956602912375886, test: 0.7392406471825906\n",
      "alpha:6.4, train: 0.7948898403752226, test: 0.7385088433382103\n",
      "alpha:6.5, train: 0.7941287442712726, test: 0.7377870470809804\n",
      "alpha:6.6, train: 0.7933767355035384, test: 0.7370749497810427\n",
      "alpha:6.7, train: 0.7926335572022837, test: 0.7363722554759872\n",
      "alpha:6.8, train: 0.7918989625197996, test: 0.7356786802143056\n",
      "alpha:6.9, train: 0.7911727141330673, test: 0.7349939514407997\n",
      "alpha:7.0, train: 0.790454583777003, test: 0.7343178074207205\n",
      "alpha:7.1, train: 0.789744351805999, test: 0.733649996699707\n",
      "alpha:7.2, train: 0.7890418067816809, test: 0.7329902775968515\n",
      "alpha:7.3, train: 0.7883467450849735, test: 0.7323384177284538\n",
      "alpha:7.4, train: 0.7876589705507466, test: 0.7316941935602332\n",
      "alpha:7.5, train: 0.7869782941234474, test: 0.731057389985964\n",
      "alpha:7.6, train: 0.7863045335322654, test: 0.730427799930662\n",
      "alpha:7.7, train: 0.7856375129844919, test: 0.7298052239766125\n",
      "alpha:7.8, train: 0.7849770628758515, test: 0.7291894700106651\n",
      "alpha:7.9, train: 0.7843230195166677, test: 0.7285803528913499\n",
      "alpha:8.0, train: 0.7836752248728329, test: 0.7279776941344811\n",
      "alpha:8.1, train: 0.7830335263206128, test: 0.7273813216160275\n",
      "alpha:8.2, train: 0.7823977764144068, test: 0.7267910692911129\n",
      "alpha:8.3, train: 0.7817678326666421, test: 0.7262067769281031\n",
      "alpha:8.4, train: 0.7811435573390431, test: 0.7256282898568165\n",
      "alpha:8.5, train: 0.7805248172445765, test: 0.7250554587299629\n",
      "alpha:8.6, train: 0.7799114835594176, test: 0.7244881392969832\n",
      "alpha:8.7, train: 0.7793034316443362, test: 0.7239261921895239\n",
      "alpha:8.8, train: 0.7787005408749391, test: 0.7233694827178349\n",
      "alpha:8.9, train: 0.7781026944802473, test: 0.7228178806774295\n",
      "alpha:9.0, train: 0.7775097793891208, test: 0.7222712601653927\n",
      "alpha:9.1, train: 0.7769216860840803, test: 0.7217294994057672\n",
      "alpha:9.2, train: 0.7763383084621006, test: 0.7211924805834842\n",
      "alpha:9.3, train: 0.7757595437019841, test: 0.7206600896863443\n",
      "alpha:9.4, train: 0.7751852921379435, test: 0.7201322163545867\n",
      "alpha:9.5, train: 0.7746154571390539, test: 0.7196087537376137\n",
      "alpha:9.6, train: 0.774049944994247, test: 0.7190895983574719\n",
      "alpha:9.7, train: 0.7734886648025509, test: 0.7185746499787085\n",
      "alpha:9.8, train: 0.7729315283682909, test: 0.7180638114842549\n",
      "alpha:9.9, train: 0.7723784501009873, test: 0.7175569887570068\n"
     ]
    }
   ],
   "source": [
    "minimum_score = -100\n",
    "minimum_alpha = 0\n",
    "best_model = None\n",
    "\n",
    "cross_mean = -100\n",
    "cross_alpha = 0\n",
    "cross_best = None\n",
    "\n",
    "for i in list(range(0, 100, 1)):\n",
    "    i = i/10\n",
    "    \n",
    "    rm = Ridge(alpha=i)\n",
    "    rm.fit(X_train, y_train)\n",
    "    \n",
    "    \n",
    "    train_score = rm.score(X_train, y_train)\n",
    "    test_score = rm.score(X_test, y_test)\n",
    "    \n",
    "    print('alpha:{}, train: {}, test: {}'.format(i, train_score, test_score))\n",
    "    \n",
    "    if minimum_score < test_score:\n",
    "        minimum_score = test_score\n",
    "        minimum_alpha = i\n",
    "        best_model = rm\n",
    "    \n",
    "    # cross validation scores\n",
    "    cross_scores = cross_val_score(rm, X, y, cv=5)\n",
    "    _cross_mean, _corss_std = cross_scores.mean(), cross_scores.std()\n",
    "        \n",
    "    if cross_mean < _cross_mean:\n",
    "        cross_mean = _cross_mean\n",
    "        cross_alpha = i\n",
    "        cross_best = rm\n",
    "\n"
   ]
  },
  {
   "cell_type": "code",
   "execution_count": 882,
   "metadata": {},
   "outputs": [
    {
     "data": {
      "text/plain": [
       "Ridge(alpha=1.0, copy_X=True, fit_intercept=True, max_iter=None,\n",
       "   normalize=False, random_state=None, solver='auto', tol=0.001)"
      ]
     },
     "execution_count": 882,
     "metadata": {},
     "output_type": "execute_result"
    }
   ],
   "source": [
    "cross_best"
   ]
  },
  {
   "cell_type": "code",
   "execution_count": 880,
   "metadata": {},
   "outputs": [
    {
     "data": {
      "text/plain": [
       "0.8131918788959596"
      ]
     },
     "execution_count": 880,
     "metadata": {},
     "output_type": "execute_result"
    }
   ],
   "source": [
    "cross_best.score(X_test, y_test)\n"
   ]
  },
  {
   "cell_type": "code",
   "execution_count": 881,
   "metadata": {},
   "outputs": [
    {
     "data": {
      "text/plain": [
       "0.8559341608869707"
      ]
     },
     "execution_count": 881,
     "metadata": {},
     "output_type": "execute_result"
    }
   ],
   "source": [
    "cross_best.score(X, y)"
   ]
  },
  {
   "cell_type": "code",
   "execution_count": 886,
   "metadata": {},
   "outputs": [
    {
     "data": {
      "text/plain": [
       "<BarContainer object of 104 artists>"
      ]
     },
     "execution_count": 886,
     "metadata": {},
     "output_type": "execute_result"
    },
    {
     "data": {
      "image/png": "[encoded data removed]",
      "text/plain": [
       "<Figure size 1440x720 with 1 Axes>"
      ]
     },
     "metadata": {
      "needs_background": "light"
     },
     "output_type": "display_data"
    }
   ],
   "source": [
    "n = np.arange(len(cross_best.coef_))\n",
    "\n",
    "plt.figure(figsize=(20,10))\n",
    "plt.ylim(-2,2)\n",
    "plt.bar(n, np.sort(cross_best.coef_, axis=0))"
   ]
  },
  {
   "cell_type": "code",
   "execution_count": 943,
   "metadata": {},
   "outputs": [
    {
     "data": {
      "text/plain": [
       "Ridge(alpha=80, copy_X=True, fit_intercept=True, max_iter=None,\n",
       "   normalize=False, random_state=None, solver='auto', tol=0.001)"
      ]
     },
     "execution_count": 943,
     "metadata": {},
     "output_type": "execute_result"
    }
   ],
   "source": [
    "# 만약 알파값이 늘어나면??\n",
    "rm = Ridge(alpha=0)\n",
    "rm1 = Ridge(alpha=0.1)\n",
    "rm2 = Ridge(alpha=0.5)\n",
    "rm3 = Ridge(alpha=10)\n",
    "rm4 = Ridge(alpha=20)\n",
    "\n",
    "rm4 = Ridge(alpha=40)\n",
    "rm5 = Ridge(alpha=80)\n",
    "\n",
    "rm.fit(X_train, y_train)\n",
    "rm1.fit(X_train, y_train)\n",
    "rm2.fit(X_train, y_train)\n",
    "rm3.fit(X_train, y_train)\n",
    "rm4.fit(X_train, y_train)\n",
    "rm5.fit(X_train, y_train)"
   ]
  },
  {
   "cell_type": "code",
   "execution_count": 944,
   "metadata": {},
   "outputs": [
    {
     "data": {
      "image/png": "[encoded data removed]",
      "text/plain": [
       "<Figure size 1440x2160 with 6 Axes>"
      ]
     },
     "metadata": {
      "needs_background": "light"
     },
     "output_type": "display_data"
    }
   ],
   "source": [
    "n = np.arange(len(rm.coef_))\n",
    "\n",
    "plt.figure(figsize=(20,30))\n",
    "plt.subplot(3,2,1)\n",
    "plt.bar(n, np.sort(rm.coef_, axis=0))\n",
    "\n",
    "plt.subplot(3,2,2)\n",
    "plt.bar(n, np.sort(rm1.coef_, axis=0))\n",
    "\n",
    "plt.subplot(3,2,3)\n",
    "plt.bar(n, np.sort(rm2.coef_, axis=0))\n",
    "\n",
    "plt.subplot(3,2,4)\n",
    "plt.bar(n, np.sort(rm3.coef_, axis=0))\n",
    "\n",
    "plt.subplot(3,2,5)\n",
    "plt.bar(n, np.sort(rm4.coef_, axis=0))\n",
    "\n",
    "plt.subplot(3,2,6)\n",
    "plt.bar(n, np.sort(rm5.coef_, axis=0))\n",
    "plt.show()"
   ]
  },
  {
   "cell_type": "code",
   "execution_count": 947,
   "metadata": {},
   "outputs": [
    {
     "name": "stdout",
     "output_type": "stream",
     "text": [
      "[-1.20749107e+02 -1.64138664e+01 -8.72351634e+01  1.13755799e+15\n",
      "  1.39174604e+01  6.67066148e+01  4.39237101e+01 -2.70647217e+01\n",
      "  1.00697987e+01  3.68315727e+01  2.30973764e+00  4.04255682e+01\n",
      "  2.38833445e+01  1.98294236e+01  3.15798140e+02  8.93503844e+02\n",
      "  1.64942284e+02 -5.59653980e+01  3.03638591e+01 -3.58519000e+01\n",
      " -2.89937352e+01  5.60229292e+02 -1.24811933e+03  1.49494363e+02\n",
      " -1.17022294e+01  7.04693451e+01 -3.93167147e+00 -8.68973269e+00\n",
      " -4.81423854e+00 -5.04012182e+01  7.97075202e+00  5.74038059e+00\n",
      " -1.26671336e+01 -1.13609590e+01  3.61227816e+01  3.95924284e-01\n",
      "  2.24280866e+01 -3.43147328e+01  3.46222176e+01 -1.13220033e+00\n",
      "  6.25640059e+00  4.25872889e+01  1.25017991e+01  4.88600320e+01\n",
      " -9.90547674e+00  1.18900310e+01  5.95835026e+00  1.76647847e+01\n",
      " -1.90994247e+01 -1.13755799e+15 -6.72219507e+00 -3.22139764e+01\n",
      "  3.93843878e+00  1.71373913e+01 -2.80867558e+00  2.44173668e+00\n",
      " -1.00731895e+01  4.39818133e+01 -1.24014399e+01 -5.69159172e+00\n",
      " -4.79704406e-01 -1.50838451e+01  4.81983581e+01 -1.59005416e+01\n",
      "  3.67995629e+01 -4.21494382e+01 -2.48569801e+00  1.83277775e+01\n",
      "  1.49641954e+01 -3.83228644e+01 -5.73323540e+00 -1.52168492e-01\n",
      " -5.06125645e+01 -1.70684999e+01 -4.36893834e+00 -3.28012985e+01\n",
      "  5.60334470e-02 -4.88695800e+00  3.26876901e+01 -2.31509078e+01\n",
      " -1.00626279e+00 -2.31463753e+01 -3.69215318e+01  5.11474178e+01\n",
      " -1.86611043e+01 -2.90189912e+01 -1.24387208e+01 -2.39194614e+01\n",
      "  3.48357177e+01 -5.98420196e+01  8.04722694e+01 -1.15848306e+01\n",
      "  4.36949955e+00 -1.98294138e+01 -1.79130008e+01  1.98396401e+01\n",
      " -2.27921372e+01 -2.26329270e+01  3.10510322e+00  8.43385833e+00\n",
      "  1.19023885e+01 -7.93508025e+00 -9.16435307e+00  2.70634833e+01]\n"
     ]
    },
    {
     "data": {
      "image/png": "[encoded data removed]",
      "text/plain": [
       "<Figure size 1440x2160 with 1 Axes>"
      ]
     },
     "metadata": {
      "needs_background": "light"
     },
     "output_type": "display_data"
    }
   ],
   "source": [
    "plt.figure(figsize=(20,30))\n",
    "plt.bar(n, np.sort(rm.coef_, axis=0))\n",
    "\n",
    "print(rm.coef_)"
   ]
  },
  {
   "cell_type": "markdown",
   "metadata": {},
   "source": [
    "# Lasso"
   ]
  },
  {
   "cell_type": "code",
   "execution_count": 915,
   "metadata": {},
   "outputs": [
    {
     "name": "stdout",
     "output_type": "stream",
     "text": [
      "alpha:0.1, train: 0.7545158635323794, test: 0.6801312839985496\n"
     ]
    }
   ],
   "source": [
    "rm = Lasso(alpha=.1)\n",
    "rm.fit(X_train, y_train)\n",
    "    \n",
    "train_score = rm.score(X_train, y_train)\n",
    "test_score = rm.score(X_test, y_test)\n",
    "print('alpha:{}, train: {}, test: {}'.format(0.1, train_score, test_score))\n"
   ]
  },
  {
   "cell_type": "code",
   "execution_count": 916,
   "metadata": {},
   "outputs": [
    {
     "name": "stderr",
     "output_type": "stream",
     "text": [
      "/Users/Mac/anaconda3/envs/lecture_env/lib/python3.7/site-packages/ipykernel_launcher.py:8: UserWarning: With alpha=0, this algorithm does not converge well. You are advised to use the LinearRegression estimator\n",
      "  \n",
      "/Users/Mac/anaconda3/envs/lecture_env/lib/python3.7/site-packages/sklearn/linear_model/coordinate_descent.py:478: UserWarning: Coordinate descent with no regularization may lead to unexpected results and is discouraged.\n",
      "  positive)\n",
      "/Users/Mac/anaconda3/envs/lecture_env/lib/python3.7/site-packages/sklearn/linear_model/coordinate_descent.py:492: ConvergenceWarning: Objective did not converge. You might want to increase the number of iterations. Fitting data with very small alpha may cause precision problems.\n",
      "  ConvergenceWarning)\n"
     ]
    },
    {
     "name": "stdout",
     "output_type": "stream",
     "text": [
      "alpha:0.0, train: 0.9331695618775461, test: 0.761435378957237\n",
      "alpha:0.1, train: 0.7545158635323794, test: 0.6801312839985496\n",
      "alpha:0.2, train: 0.7186573650691541, test: 0.6507092785446373\n",
      "alpha:0.3, train: 0.6865271725289662, test: 0.6288371840799425\n",
      "alpha:0.4, train: 0.643478007471336, test: 0.5938126227413292\n",
      "alpha:0.5, train: 0.5887532053408021, test: 0.5463388279746038\n",
      "alpha:0.6, train: 0.5218717777218747, test: 0.4863003070068751\n",
      "alpha:0.7, train: 0.4428506239182929, test: 0.41372977883145035\n",
      "alpha:0.8, train: 0.3680297977516257, test: 0.3400948370742255\n",
      "alpha:0.9, train: 0.2939752922747717, test: 0.26522400319636974\n",
      "alpha:1.0, train: 0.22840119441422002, test: 0.19824695618287325\n",
      "alpha:1.1, train: 0.15592465376505482, test: 0.12302764170315605\n",
      "alpha:1.2, train: 0.09505590734239333, test: 0.06398171123866203\n",
      "alpha:1.3, train: 0.05420999312440944, test: 0.03289963973286192\n",
      "alpha:1.4, train: 0.027494728289506387, test: 0.011495534507835248\n",
      "alpha:1.5, train: 0.008085434928236102, test: -0.005395310400940101\n",
      "alpha:1.6, train: 0.0, test: -0.012439932990852887\n",
      "alpha:1.7, train: 0.0, test: -0.012439932990852887\n",
      "alpha:1.8, train: 0.0, test: -0.012439932990852887\n",
      "alpha:1.9, train: 0.0, test: -0.012439932990852887\n",
      "alpha:2.0, train: 0.0, test: -0.012439932990852887\n",
      "alpha:2.1, train: 0.0, test: -0.012439932990852887\n",
      "alpha:2.2, train: 0.0, test: -0.012439932990852887\n",
      "alpha:2.3, train: 0.0, test: -0.012439932990852887\n",
      "alpha:2.4, train: 0.0, test: -0.012439932990852887\n",
      "alpha:2.5, train: 0.0, test: -0.012439932990852887\n",
      "alpha:2.6, train: 0.0, test: -0.012439932990852887\n",
      "alpha:2.7, train: 0.0, test: -0.012439932990852887\n",
      "alpha:2.8, train: 0.0, test: -0.012439932990852887\n",
      "alpha:2.9, train: 0.0, test: -0.012439932990852887\n",
      "alpha:3.0, train: 0.0, test: -0.012439932990852887\n",
      "alpha:3.1, train: 0.0, test: -0.012439932990852887\n",
      "alpha:3.2, train: 0.0, test: -0.012439932990852887\n",
      "alpha:3.3, train: 0.0, test: -0.012439932990852887\n",
      "alpha:3.4, train: 0.0, test: -0.012439932990852887\n",
      "alpha:3.5, train: 0.0, test: -0.012439932990852887\n",
      "alpha:3.6, train: 0.0, test: -0.012439932990852887\n",
      "alpha:3.7, train: 0.0, test: -0.012439932990852887\n",
      "alpha:3.8, train: 0.0, test: -0.012439932990852887\n",
      "alpha:3.9, train: 0.0, test: -0.012439932990852887\n",
      "alpha:4.0, train: 0.0, test: -0.012439932990852887\n",
      "alpha:4.1, train: 0.0, test: -0.012439932990852887\n",
      "alpha:4.2, train: 0.0, test: -0.012439932990852887\n",
      "alpha:4.3, train: 0.0, test: -0.012439932990852887\n",
      "alpha:4.4, train: 0.0, test: -0.012439932990852887\n",
      "alpha:4.5, train: 0.0, test: -0.012439932990852887\n",
      "alpha:4.6, train: 0.0, test: -0.012439932990852887\n",
      "alpha:4.7, train: 0.0, test: -0.012439932990852887\n",
      "alpha:4.8, train: 0.0, test: -0.012439932990852887\n",
      "alpha:4.9, train: 0.0, test: -0.012439932990852887\n",
      "alpha:5.0, train: 0.0, test: -0.012439932990852887\n",
      "alpha:5.1, train: 0.0, test: -0.012439932990852887\n",
      "alpha:5.2, train: 0.0, test: -0.012439932990852887\n",
      "alpha:5.3, train: 0.0, test: -0.012439932990852887\n",
      "alpha:5.4, train: 0.0, test: -0.012439932990852887\n",
      "alpha:5.5, train: 0.0, test: -0.012439932990852887\n",
      "alpha:5.6, train: 0.0, test: -0.012439932990852887\n",
      "alpha:5.7, train: 0.0, test: -0.012439932990852887\n",
      "alpha:5.8, train: 0.0, test: -0.012439932990852887\n",
      "alpha:5.9, train: 0.0, test: -0.012439932990852887\n",
      "alpha:6.0, train: 0.0, test: -0.012439932990852887\n",
      "alpha:6.1, train: 0.0, test: -0.012439932990852887\n",
      "alpha:6.2, train: 0.0, test: -0.012439932990852887\n",
      "alpha:6.3, train: 0.0, test: -0.012439932990852887\n",
      "alpha:6.4, train: 0.0, test: -0.012439932990852887\n",
      "alpha:6.5, train: 0.0, test: -0.012439932990852887\n",
      "alpha:6.6, train: 0.0, test: -0.012439932990852887\n",
      "alpha:6.7, train: 0.0, test: -0.012439932990852887\n",
      "alpha:6.8, train: 0.0, test: -0.012439932990852887\n",
      "alpha:6.9, train: 0.0, test: -0.012439932990852887\n",
      "alpha:7.0, train: 0.0, test: -0.012439932990852887\n",
      "alpha:7.1, train: 0.0, test: -0.012439932990852887\n",
      "alpha:7.2, train: 0.0, test: -0.012439932990852887\n",
      "alpha:7.3, train: 0.0, test: -0.012439932990852887\n",
      "alpha:7.4, train: 0.0, test: -0.012439932990852887\n",
      "alpha:7.5, train: 0.0, test: -0.012439932990852887\n",
      "alpha:7.6, train: 0.0, test: -0.012439932990852887\n",
      "alpha:7.7, train: 0.0, test: -0.012439932990852887\n",
      "alpha:7.8, train: 0.0, test: -0.012439932990852887\n",
      "alpha:7.9, train: 0.0, test: -0.012439932990852887\n",
      "alpha:8.0, train: 0.0, test: -0.012439932990852887\n",
      "alpha:8.1, train: 0.0, test: -0.012439932990852887\n",
      "alpha:8.2, train: 0.0, test: -0.012439932990852887\n",
      "alpha:8.3, train: 0.0, test: -0.012439932990852887\n",
      "alpha:8.4, train: 0.0, test: -0.012439932990852887\n",
      "alpha:8.5, train: 0.0, test: -0.012439932990852887\n",
      "alpha:8.6, train: 0.0, test: -0.012439932990852887\n",
      "alpha:8.7, train: 0.0, test: -0.012439932990852887\n",
      "alpha:8.8, train: 0.0, test: -0.012439932990852887\n",
      "alpha:8.9, train: 0.0, test: -0.012439932990852887\n",
      "alpha:9.0, train: 0.0, test: -0.012439932990852887\n",
      "alpha:9.1, train: 0.0, test: -0.012439932990852887\n",
      "alpha:9.2, train: 0.0, test: -0.012439932990852887\n",
      "alpha:9.3, train: 0.0, test: -0.012439932990852887\n",
      "alpha:9.4, train: 0.0, test: -0.012439932990852887\n",
      "alpha:9.5, train: 0.0, test: -0.012439932990852887\n",
      "alpha:9.6, train: 0.0, test: -0.012439932990852887\n",
      "alpha:9.7, train: 0.0, test: -0.012439932990852887\n",
      "alpha:9.8, train: 0.0, test: -0.012439932990852887\n",
      "alpha:9.9, train: 0.0, test: -0.012439932990852887\n"
     ]
    }
   ],
   "source": [
    "minimum_score = -100\n",
    "minimum_alpha = 0\n",
    "best_model = None\n",
    "for i in list(range(0, 100, 1)):\n",
    "    i = i/10\n",
    "    \n",
    "    lasso_model = Lasso(alpha=i)\n",
    "    lasso_model.fit(X_train, y_train)\n",
    "    \n",
    "    \n",
    "    train_score = lasso_model.score(X_train, y_train)\n",
    "    test_score = lasso_model.score(X_test, y_test)\n",
    "    print('alpha:{}, train: {}, test: {}'.format(i, train_score, test_score))\n",
    "    if minimum_score < test_score:\n",
    "        minimum_score = test_score\n",
    "        minimum_alpha = i\n",
    "        best_model = lasso_model\n"
   ]
  },
  {
   "cell_type": "code",
   "execution_count": 917,
   "metadata": {},
   "outputs": [
    {
     "data": {
      "text/plain": [
       "Lasso(alpha=0.0, copy_X=True, fit_intercept=True, max_iter=1000,\n",
       "   normalize=False, positive=False, precompute=False, random_state=None,\n",
       "   selection='cyclic', tol=0.0001, warm_start=False)"
      ]
     },
     "execution_count": 917,
     "metadata": {},
     "output_type": "execute_result"
    }
   ],
   "source": [
    "best_model"
   ]
  },
  {
   "cell_type": "markdown",
   "metadata": {},
   "source": [
    "### cross validation with Lasso"
   ]
  },
  {
   "cell_type": "code",
   "execution_count": 920,
   "metadata": {},
   "outputs": [
    {
     "name": "stderr",
     "output_type": "stream",
     "text": [
      "/Users/Mac/anaconda3/envs/lecture_env/lib/python3.7/site-packages/ipykernel_launcher.py:13: UserWarning: With alpha=0, this algorithm does not converge well. You are advised to use the LinearRegression estimator\n",
      "  del sys.path[0]\n",
      "/Users/Mac/anaconda3/envs/lecture_env/lib/python3.7/site-packages/sklearn/linear_model/coordinate_descent.py:478: UserWarning: Coordinate descent with no regularization may lead to unexpected results and is discouraged.\n",
      "  positive)\n",
      "/Users/Mac/anaconda3/envs/lecture_env/lib/python3.7/site-packages/sklearn/linear_model/coordinate_descent.py:492: ConvergenceWarning: Objective did not converge. You might want to increase the number of iterations. Fitting data with very small alpha may cause precision problems.\n",
      "  ConvergenceWarning)\n"
     ]
    },
    {
     "name": "stdout",
     "output_type": "stream",
     "text": [
      "alpha:0.0, train: 0.9331695618775461, test: 0.761435378957237\n",
      "alpha:0.1, train: 0.7545158635323794, test: 0.6801312839985496\n",
      "alpha:0.2, train: 0.7186573650691541, test: 0.6507092785446373\n",
      "alpha:0.3, train: 0.6865271725289662, test: 0.6288371840799425\n",
      "alpha:0.4, train: 0.643478007471336, test: 0.5938126227413292\n",
      "alpha:0.5, train: 0.5887532053408021, test: 0.5463388279746038\n",
      "alpha:0.6, train: 0.5218717777218747, test: 0.4863003070068751\n",
      "alpha:0.7, train: 0.4428506239182929, test: 0.41372977883145035\n",
      "alpha:0.8, train: 0.3680297977516257, test: 0.3400948370742255\n",
      "alpha:0.9, train: 0.2939752922747717, test: 0.26522400319636974\n",
      "alpha:1.0, train: 0.22840119441422002, test: 0.19824695618287325\n",
      "alpha:1.1, train: 0.15592465376505482, test: 0.12302764170315605\n",
      "alpha:1.2, train: 0.09505590734239333, test: 0.06398171123866203\n",
      "alpha:1.3, train: 0.05420999312440944, test: 0.03289963973286192\n",
      "alpha:1.4, train: 0.027494728289506387, test: 0.011495534507835248\n",
      "alpha:1.5, train: 0.008085434928236102, test: -0.005395310400940101\n",
      "alpha:1.6, train: 0.0, test: -0.012439932990852887\n",
      "alpha:1.7, train: 0.0, test: -0.012439932990852887\n",
      "alpha:1.8, train: 0.0, test: -0.012439932990852887\n",
      "alpha:1.9, train: 0.0, test: -0.012439932990852887\n",
      "alpha:2.0, train: 0.0, test: -0.012439932990852887\n",
      "alpha:2.1, train: 0.0, test: -0.012439932990852887\n",
      "alpha:2.2, train: 0.0, test: -0.012439932990852887\n",
      "alpha:2.3, train: 0.0, test: -0.012439932990852887\n",
      "alpha:2.4, train: 0.0, test: -0.012439932990852887\n",
      "alpha:2.5, train: 0.0, test: -0.012439932990852887\n",
      "alpha:2.6, train: 0.0, test: -0.012439932990852887\n",
      "alpha:2.7, train: 0.0, test: -0.012439932990852887\n",
      "alpha:2.8, train: 0.0, test: -0.012439932990852887\n",
      "alpha:2.9, train: 0.0, test: -0.012439932990852887\n",
      "alpha:3.0, train: 0.0, test: -0.012439932990852887\n",
      "alpha:3.1, train: 0.0, test: -0.012439932990852887\n",
      "alpha:3.2, train: 0.0, test: -0.012439932990852887\n",
      "alpha:3.3, train: 0.0, test: -0.012439932990852887\n",
      "alpha:3.4, train: 0.0, test: -0.012439932990852887\n",
      "alpha:3.5, train: 0.0, test: -0.012439932990852887\n",
      "alpha:3.6, train: 0.0, test: -0.012439932990852887\n",
      "alpha:3.7, train: 0.0, test: -0.012439932990852887\n",
      "alpha:3.8, train: 0.0, test: -0.012439932990852887\n",
      "alpha:3.9, train: 0.0, test: -0.012439932990852887\n",
      "alpha:4.0, train: 0.0, test: -0.012439932990852887\n",
      "alpha:4.1, train: 0.0, test: -0.012439932990852887\n",
      "alpha:4.2, train: 0.0, test: -0.012439932990852887\n",
      "alpha:4.3, train: 0.0, test: -0.012439932990852887\n",
      "alpha:4.4, train: 0.0, test: -0.012439932990852887\n",
      "alpha:4.5, train: 0.0, test: -0.012439932990852887\n",
      "alpha:4.6, train: 0.0, test: -0.012439932990852887\n",
      "alpha:4.7, train: 0.0, test: -0.012439932990852887\n",
      "alpha:4.8, train: 0.0, test: -0.012439932990852887\n",
      "alpha:4.9, train: 0.0, test: -0.012439932990852887\n",
      "alpha:5.0, train: 0.0, test: -0.012439932990852887\n",
      "alpha:5.1, train: 0.0, test: -0.012439932990852887\n",
      "alpha:5.2, train: 0.0, test: -0.012439932990852887\n",
      "alpha:5.3, train: 0.0, test: -0.012439932990852887\n",
      "alpha:5.4, train: 0.0, test: -0.012439932990852887\n",
      "alpha:5.5, train: 0.0, test: -0.012439932990852887\n",
      "alpha:5.6, train: 0.0, test: -0.012439932990852887\n",
      "alpha:5.7, train: 0.0, test: -0.012439932990852887\n",
      "alpha:5.8, train: 0.0, test: -0.012439932990852887\n",
      "alpha:5.9, train: 0.0, test: -0.012439932990852887\n",
      "alpha:6.0, train: 0.0, test: -0.012439932990852887\n",
      "alpha:6.1, train: 0.0, test: -0.012439932990852887\n",
      "alpha:6.2, train: 0.0, test: -0.012439932990852887\n",
      "alpha:6.3, train: 0.0, test: -0.012439932990852887\n",
      "alpha:6.4, train: 0.0, test: -0.012439932990852887\n",
      "alpha:6.5, train: 0.0, test: -0.012439932990852887\n",
      "alpha:6.6, train: 0.0, test: -0.012439932990852887\n",
      "alpha:6.7, train: 0.0, test: -0.012439932990852887\n",
      "alpha:6.8, train: 0.0, test: -0.012439932990852887\n",
      "alpha:6.9, train: 0.0, test: -0.012439932990852887\n",
      "alpha:7.0, train: 0.0, test: -0.012439932990852887\n",
      "alpha:7.1, train: 0.0, test: -0.012439932990852887\n",
      "alpha:7.2, train: 0.0, test: -0.012439932990852887\n",
      "alpha:7.3, train: 0.0, test: -0.012439932990852887\n",
      "alpha:7.4, train: 0.0, test: -0.012439932990852887\n",
      "alpha:7.5, train: 0.0, test: -0.012439932990852887\n",
      "alpha:7.6, train: 0.0, test: -0.012439932990852887\n",
      "alpha:7.7, train: 0.0, test: -0.012439932990852887\n",
      "alpha:7.8, train: 0.0, test: -0.012439932990852887\n",
      "alpha:7.9, train: 0.0, test: -0.012439932990852887\n",
      "alpha:8.0, train: 0.0, test: -0.012439932990852887\n",
      "alpha:8.1, train: 0.0, test: -0.012439932990852887\n",
      "alpha:8.2, train: 0.0, test: -0.012439932990852887\n",
      "alpha:8.3, train: 0.0, test: -0.012439932990852887\n",
      "alpha:8.4, train: 0.0, test: -0.012439932990852887\n",
      "alpha:8.5, train: 0.0, test: -0.012439932990852887\n",
      "alpha:8.6, train: 0.0, test: -0.012439932990852887\n",
      "alpha:8.7, train: 0.0, test: -0.012439932990852887\n",
      "alpha:8.8, train: 0.0, test: -0.012439932990852887\n",
      "alpha:8.9, train: 0.0, test: -0.012439932990852887\n",
      "alpha:9.0, train: 0.0, test: -0.012439932990852887\n",
      "alpha:9.1, train: 0.0, test: -0.012439932990852887\n",
      "alpha:9.2, train: 0.0, test: -0.012439932990852887\n",
      "alpha:9.3, train: 0.0, test: -0.012439932990852887\n",
      "alpha:9.4, train: 0.0, test: -0.012439932990852887\n",
      "alpha:9.5, train: 0.0, test: -0.012439932990852887\n",
      "alpha:9.6, train: 0.0, test: -0.012439932990852887\n",
      "alpha:9.7, train: 0.0, test: -0.012439932990852887\n",
      "alpha:9.8, train: 0.0, test: -0.012439932990852887\n",
      "alpha:9.9, train: 0.0, test: -0.012439932990852887\n",
      "alpha:10.0, train: 0.0, test: -0.012439932990852887\n",
      "alpha:10.1, train: 0.0, test: -0.012439932990852887\n",
      "alpha:10.2, train: 0.0, test: -0.012439932990852887\n",
      "alpha:10.3, train: 0.0, test: -0.012439932990852887\n",
      "alpha:10.4, train: 0.0, test: -0.012439932990852887\n",
      "alpha:10.5, train: 0.0, test: -0.012439932990852887\n",
      "alpha:10.6, train: 0.0, test: -0.012439932990852887\n",
      "alpha:10.7, train: 0.0, test: -0.012439932990852887\n",
      "alpha:10.8, train: 0.0, test: -0.012439932990852887\n",
      "alpha:10.9, train: 0.0, test: -0.012439932990852887\n",
      "alpha:11.0, train: 0.0, test: -0.012439932990852887\n",
      "alpha:11.1, train: 0.0, test: -0.012439932990852887\n",
      "alpha:11.2, train: 0.0, test: -0.012439932990852887\n",
      "alpha:11.3, train: 0.0, test: -0.012439932990852887\n",
      "alpha:11.4, train: 0.0, test: -0.012439932990852887\n",
      "alpha:11.5, train: 0.0, test: -0.012439932990852887\n",
      "alpha:11.6, train: 0.0, test: -0.012439932990852887\n",
      "alpha:11.7, train: 0.0, test: -0.012439932990852887\n",
      "alpha:11.8, train: 0.0, test: -0.012439932990852887\n",
      "alpha:11.9, train: 0.0, test: -0.012439932990852887\n",
      "alpha:12.0, train: 0.0, test: -0.012439932990852887\n",
      "alpha:12.1, train: 0.0, test: -0.012439932990852887\n",
      "alpha:12.2, train: 0.0, test: -0.012439932990852887\n",
      "alpha:12.3, train: 0.0, test: -0.012439932990852887\n",
      "alpha:12.4, train: 0.0, test: -0.012439932990852887\n",
      "alpha:12.5, train: 0.0, test: -0.012439932990852887\n",
      "alpha:12.6, train: 0.0, test: -0.012439932990852887\n",
      "alpha:12.7, train: 0.0, test: -0.012439932990852887\n",
      "alpha:12.8, train: 0.0, test: -0.012439932990852887\n",
      "alpha:12.9, train: 0.0, test: -0.012439932990852887\n",
      "alpha:13.0, train: 0.0, test: -0.012439932990852887\n",
      "alpha:13.1, train: 0.0, test: -0.012439932990852887\n",
      "alpha:13.2, train: 0.0, test: -0.012439932990852887\n",
      "alpha:13.3, train: 0.0, test: -0.012439932990852887\n",
      "alpha:13.4, train: 0.0, test: -0.012439932990852887\n",
      "alpha:13.5, train: 0.0, test: -0.012439932990852887\n",
      "alpha:13.6, train: 0.0, test: -0.012439932990852887\n",
      "alpha:13.7, train: 0.0, test: -0.012439932990852887\n",
      "alpha:13.8, train: 0.0, test: -0.012439932990852887\n",
      "alpha:13.9, train: 0.0, test: -0.012439932990852887\n",
      "alpha:14.0, train: 0.0, test: -0.012439932990852887\n",
      "alpha:14.1, train: 0.0, test: -0.012439932990852887\n",
      "alpha:14.2, train: 0.0, test: -0.012439932990852887\n",
      "alpha:14.3, train: 0.0, test: -0.012439932990852887\n",
      "alpha:14.4, train: 0.0, test: -0.012439932990852887\n",
      "alpha:14.5, train: 0.0, test: -0.012439932990852887\n",
      "alpha:14.6, train: 0.0, test: -0.012439932990852887\n",
      "alpha:14.7, train: 0.0, test: -0.012439932990852887\n",
      "alpha:14.8, train: 0.0, test: -0.012439932990852887\n",
      "alpha:14.9, train: 0.0, test: -0.012439932990852887\n",
      "alpha:15.0, train: 0.0, test: -0.012439932990852887\n",
      "alpha:15.1, train: 0.0, test: -0.012439932990852887\n",
      "alpha:15.2, train: 0.0, test: -0.012439932990852887\n",
      "alpha:15.3, train: 0.0, test: -0.012439932990852887\n",
      "alpha:15.4, train: 0.0, test: -0.012439932990852887\n",
      "alpha:15.5, train: 0.0, test: -0.012439932990852887\n",
      "alpha:15.6, train: 0.0, test: -0.012439932990852887\n",
      "alpha:15.7, train: 0.0, test: -0.012439932990852887\n",
      "alpha:15.8, train: 0.0, test: -0.012439932990852887\n",
      "alpha:15.9, train: 0.0, test: -0.012439932990852887\n",
      "alpha:16.0, train: 0.0, test: -0.012439932990852887\n",
      "alpha:16.1, train: 0.0, test: -0.012439932990852887\n"
     ]
    },
    {
     "name": "stdout",
     "output_type": "stream",
     "text": [
      "alpha:16.2, train: 0.0, test: -0.012439932990852887\n",
      "alpha:16.3, train: 0.0, test: -0.012439932990852887\n",
      "alpha:16.4, train: 0.0, test: -0.012439932990852887\n",
      "alpha:16.5, train: 0.0, test: -0.012439932990852887\n",
      "alpha:16.6, train: 0.0, test: -0.012439932990852887\n",
      "alpha:16.7, train: 0.0, test: -0.012439932990852887\n",
      "alpha:16.8, train: 0.0, test: -0.012439932990852887\n",
      "alpha:16.9, train: 0.0, test: -0.012439932990852887\n",
      "alpha:17.0, train: 0.0, test: -0.012439932990852887\n",
      "alpha:17.1, train: 0.0, test: -0.012439932990852887\n",
      "alpha:17.2, train: 0.0, test: -0.012439932990852887\n",
      "alpha:17.3, train: 0.0, test: -0.012439932990852887\n",
      "alpha:17.4, train: 0.0, test: -0.012439932990852887\n",
      "alpha:17.5, train: 0.0, test: -0.012439932990852887\n",
      "alpha:17.6, train: 0.0, test: -0.012439932990852887\n",
      "alpha:17.7, train: 0.0, test: -0.012439932990852887\n",
      "alpha:17.8, train: 0.0, test: -0.012439932990852887\n",
      "alpha:17.9, train: 0.0, test: -0.012439932990852887\n",
      "alpha:18.0, train: 0.0, test: -0.012439932990852887\n",
      "alpha:18.1, train: 0.0, test: -0.012439932990852887\n",
      "alpha:18.2, train: 0.0, test: -0.012439932990852887\n",
      "alpha:18.3, train: 0.0, test: -0.012439932990852887\n",
      "alpha:18.4, train: 0.0, test: -0.012439932990852887\n",
      "alpha:18.5, train: 0.0, test: -0.012439932990852887\n",
      "alpha:18.6, train: 0.0, test: -0.012439932990852887\n",
      "alpha:18.7, train: 0.0, test: -0.012439932990852887\n",
      "alpha:18.8, train: 0.0, test: -0.012439932990852887\n",
      "alpha:18.9, train: 0.0, test: -0.012439932990852887\n",
      "alpha:19.0, train: 0.0, test: -0.012439932990852887\n",
      "alpha:19.1, train: 0.0, test: -0.012439932990852887\n",
      "alpha:19.2, train: 0.0, test: -0.012439932990852887\n",
      "alpha:19.3, train: 0.0, test: -0.012439932990852887\n",
      "alpha:19.4, train: 0.0, test: -0.012439932990852887\n",
      "alpha:19.5, train: 0.0, test: -0.012439932990852887\n",
      "alpha:19.6, train: 0.0, test: -0.012439932990852887\n",
      "alpha:19.7, train: 0.0, test: -0.012439932990852887\n",
      "alpha:19.8, train: 0.0, test: -0.012439932990852887\n",
      "alpha:19.9, train: 0.0, test: -0.012439932990852887\n",
      "alpha:20.0, train: 0.0, test: -0.012439932990852887\n",
      "alpha:20.1, train: 0.0, test: -0.012439932990852887\n",
      "alpha:20.2, train: 0.0, test: -0.012439932990852887\n",
      "alpha:20.3, train: 0.0, test: -0.012439932990852887\n",
      "alpha:20.4, train: 0.0, test: -0.012439932990852887\n",
      "alpha:20.5, train: 0.0, test: -0.012439932990852887\n",
      "alpha:20.6, train: 0.0, test: -0.012439932990852887\n",
      "alpha:20.7, train: 0.0, test: -0.012439932990852887\n",
      "alpha:20.8, train: 0.0, test: -0.012439932990852887\n",
      "alpha:20.9, train: 0.0, test: -0.012439932990852887\n",
      "alpha:21.0, train: 0.0, test: -0.012439932990852887\n",
      "alpha:21.1, train: 0.0, test: -0.012439932990852887\n",
      "alpha:21.2, train: 0.0, test: -0.012439932990852887\n",
      "alpha:21.3, train: 0.0, test: -0.012439932990852887\n",
      "alpha:21.4, train: 0.0, test: -0.012439932990852887\n",
      "alpha:21.5, train: 0.0, test: -0.012439932990852887\n",
      "alpha:21.6, train: 0.0, test: -0.012439932990852887\n",
      "alpha:21.7, train: 0.0, test: -0.012439932990852887\n",
      "alpha:21.8, train: 0.0, test: -0.012439932990852887\n",
      "alpha:21.9, train: 0.0, test: -0.012439932990852887\n",
      "alpha:22.0, train: 0.0, test: -0.012439932990852887\n",
      "alpha:22.1, train: 0.0, test: -0.012439932990852887\n",
      "alpha:22.2, train: 0.0, test: -0.012439932990852887\n",
      "alpha:22.3, train: 0.0, test: -0.012439932990852887\n",
      "alpha:22.4, train: 0.0, test: -0.012439932990852887\n",
      "alpha:22.5, train: 0.0, test: -0.012439932990852887\n",
      "alpha:22.6, train: 0.0, test: -0.012439932990852887\n",
      "alpha:22.7, train: 0.0, test: -0.012439932990852887\n",
      "alpha:22.8, train: 0.0, test: -0.012439932990852887\n",
      "alpha:22.9, train: 0.0, test: -0.012439932990852887\n",
      "alpha:23.0, train: 0.0, test: -0.012439932990852887\n",
      "alpha:23.1, train: 0.0, test: -0.012439932990852887\n",
      "alpha:23.2, train: 0.0, test: -0.012439932990852887\n",
      "alpha:23.3, train: 0.0, test: -0.012439932990852887\n",
      "alpha:23.4, train: 0.0, test: -0.012439932990852887\n",
      "alpha:23.5, train: 0.0, test: -0.012439932990852887\n",
      "alpha:23.6, train: 0.0, test: -0.012439932990852887\n",
      "alpha:23.7, train: 0.0, test: -0.012439932990852887\n",
      "alpha:23.8, train: 0.0, test: -0.012439932990852887\n",
      "alpha:23.9, train: 0.0, test: -0.012439932990852887\n",
      "alpha:24.0, train: 0.0, test: -0.012439932990852887\n",
      "alpha:24.1, train: 0.0, test: -0.012439932990852887\n",
      "alpha:24.2, train: 0.0, test: -0.012439932990852887\n",
      "alpha:24.3, train: 0.0, test: -0.012439932990852887\n",
      "alpha:24.4, train: 0.0, test: -0.012439932990852887\n",
      "alpha:24.5, train: 0.0, test: -0.012439932990852887\n",
      "alpha:24.6, train: 0.0, test: -0.012439932990852887\n",
      "alpha:24.7, train: 0.0, test: -0.012439932990852887\n",
      "alpha:24.8, train: 0.0, test: -0.012439932990852887\n",
      "alpha:24.9, train: 0.0, test: -0.012439932990852887\n",
      "alpha:25.0, train: 0.0, test: -0.012439932990852887\n",
      "alpha:25.1, train: 0.0, test: -0.012439932990852887\n",
      "alpha:25.2, train: 0.0, test: -0.012439932990852887\n",
      "alpha:25.3, train: 0.0, test: -0.012439932990852887\n",
      "alpha:25.4, train: 0.0, test: -0.012439932990852887\n",
      "alpha:25.5, train: 0.0, test: -0.012439932990852887\n",
      "alpha:25.6, train: 0.0, test: -0.012439932990852887\n",
      "alpha:25.7, train: 0.0, test: -0.012439932990852887\n",
      "alpha:25.8, train: 0.0, test: -0.012439932990852887\n",
      "alpha:25.9, train: 0.0, test: -0.012439932990852887\n",
      "alpha:26.0, train: 0.0, test: -0.012439932990852887\n",
      "alpha:26.1, train: 0.0, test: -0.012439932990852887\n",
      "alpha:26.2, train: 0.0, test: -0.012439932990852887\n",
      "alpha:26.3, train: 0.0, test: -0.012439932990852887\n",
      "alpha:26.4, train: 0.0, test: -0.012439932990852887\n",
      "alpha:26.5, train: 0.0, test: -0.012439932990852887\n",
      "alpha:26.6, train: 0.0, test: -0.012439932990852887\n",
      "alpha:26.7, train: 0.0, test: -0.012439932990852887\n",
      "alpha:26.8, train: 0.0, test: -0.012439932990852887\n",
      "alpha:26.9, train: 0.0, test: -0.012439932990852887\n",
      "alpha:27.0, train: 0.0, test: -0.012439932990852887\n",
      "alpha:27.1, train: 0.0, test: -0.012439932990852887\n",
      "alpha:27.2, train: 0.0, test: -0.012439932990852887\n",
      "alpha:27.3, train: 0.0, test: -0.012439932990852887\n",
      "alpha:27.4, train: 0.0, test: -0.012439932990852887\n",
      "alpha:27.5, train: 0.0, test: -0.012439932990852887\n",
      "alpha:27.6, train: 0.0, test: -0.012439932990852887\n",
      "alpha:27.7, train: 0.0, test: -0.012439932990852887\n",
      "alpha:27.8, train: 0.0, test: -0.012439932990852887\n",
      "alpha:27.9, train: 0.0, test: -0.012439932990852887\n",
      "alpha:28.0, train: 0.0, test: -0.012439932990852887\n",
      "alpha:28.1, train: 0.0, test: -0.012439932990852887\n",
      "alpha:28.2, train: 0.0, test: -0.012439932990852887\n",
      "alpha:28.3, train: 0.0, test: -0.012439932990852887\n",
      "alpha:28.4, train: 0.0, test: -0.012439932990852887\n",
      "alpha:28.5, train: 0.0, test: -0.012439932990852887\n",
      "alpha:28.6, train: 0.0, test: -0.012439932990852887\n",
      "alpha:28.7, train: 0.0, test: -0.012439932990852887\n",
      "alpha:28.8, train: 0.0, test: -0.012439932990852887\n",
      "alpha:28.9, train: 0.0, test: -0.012439932990852887\n",
      "alpha:29.0, train: 0.0, test: -0.012439932990852887\n",
      "alpha:29.1, train: 0.0, test: -0.012439932990852887\n",
      "alpha:29.2, train: 0.0, test: -0.012439932990852887\n",
      "alpha:29.3, train: 0.0, test: -0.012439932990852887\n",
      "alpha:29.4, train: 0.0, test: -0.012439932990852887\n",
      "alpha:29.5, train: 0.0, test: -0.012439932990852887\n",
      "alpha:29.6, train: 0.0, test: -0.012439932990852887\n",
      "alpha:29.7, train: 0.0, test: -0.012439932990852887\n",
      "alpha:29.8, train: 0.0, test: -0.012439932990852887\n",
      "alpha:29.9, train: 0.0, test: -0.012439932990852887\n",
      "alpha:30.0, train: 0.0, test: -0.012439932990852887\n",
      "alpha:30.1, train: 0.0, test: -0.012439932990852887\n",
      "alpha:30.2, train: 0.0, test: -0.012439932990852887\n",
      "alpha:30.3, train: 0.0, test: -0.012439932990852887\n",
      "alpha:30.4, train: 0.0, test: -0.012439932990852887\n",
      "alpha:30.5, train: 0.0, test: -0.012439932990852887\n",
      "alpha:30.6, train: 0.0, test: -0.012439932990852887\n",
      "alpha:30.7, train: 0.0, test: -0.012439932990852887\n",
      "alpha:30.8, train: 0.0, test: -0.012439932990852887\n",
      "alpha:30.9, train: 0.0, test: -0.012439932990852887\n",
      "alpha:31.0, train: 0.0, test: -0.012439932990852887\n",
      "alpha:31.1, train: 0.0, test: -0.012439932990852887\n",
      "alpha:31.2, train: 0.0, test: -0.012439932990852887\n",
      "alpha:31.3, train: 0.0, test: -0.012439932990852887\n",
      "alpha:31.4, train: 0.0, test: -0.012439932990852887\n",
      "alpha:31.5, train: 0.0, test: -0.012439932990852887\n",
      "alpha:31.6, train: 0.0, test: -0.012439932990852887\n",
      "alpha:31.7, train: 0.0, test: -0.012439932990852887\n",
      "alpha:31.8, train: 0.0, test: -0.012439932990852887\n",
      "alpha:31.9, train: 0.0, test: -0.012439932990852887\n"
     ]
    },
    {
     "name": "stdout",
     "output_type": "stream",
     "text": [
      "alpha:32.0, train: 0.0, test: -0.012439932990852887\n",
      "alpha:32.1, train: 0.0, test: -0.012439932990852887\n",
      "alpha:32.2, train: 0.0, test: -0.012439932990852887\n",
      "alpha:32.3, train: 0.0, test: -0.012439932990852887\n",
      "alpha:32.4, train: 0.0, test: -0.012439932990852887\n",
      "alpha:32.5, train: 0.0, test: -0.012439932990852887\n",
      "alpha:32.6, train: 0.0, test: -0.012439932990852887\n",
      "alpha:32.7, train: 0.0, test: -0.012439932990852887\n",
      "alpha:32.8, train: 0.0, test: -0.012439932990852887\n",
      "alpha:32.9, train: 0.0, test: -0.012439932990852887\n",
      "alpha:33.0, train: 0.0, test: -0.012439932990852887\n",
      "alpha:33.1, train: 0.0, test: -0.012439932990852887\n",
      "alpha:33.2, train: 0.0, test: -0.012439932990852887\n",
      "alpha:33.3, train: 0.0, test: -0.012439932990852887\n",
      "alpha:33.4, train: 0.0, test: -0.012439932990852887\n",
      "alpha:33.5, train: 0.0, test: -0.012439932990852887\n",
      "alpha:33.6, train: 0.0, test: -0.012439932990852887\n",
      "alpha:33.7, train: 0.0, test: -0.012439932990852887\n",
      "alpha:33.8, train: 0.0, test: -0.012439932990852887\n",
      "alpha:33.9, train: 0.0, test: -0.012439932990852887\n",
      "alpha:34.0, train: 0.0, test: -0.012439932990852887\n",
      "alpha:34.1, train: 0.0, test: -0.012439932990852887\n",
      "alpha:34.2, train: 0.0, test: -0.012439932990852887\n",
      "alpha:34.3, train: 0.0, test: -0.012439932990852887\n",
      "alpha:34.4, train: 0.0, test: -0.012439932990852887\n",
      "alpha:34.5, train: 0.0, test: -0.012439932990852887\n",
      "alpha:34.6, train: 0.0, test: -0.012439932990852887\n",
      "alpha:34.7, train: 0.0, test: -0.012439932990852887\n",
      "alpha:34.8, train: 0.0, test: -0.012439932990852887\n",
      "alpha:34.9, train: 0.0, test: -0.012439932990852887\n",
      "alpha:35.0, train: 0.0, test: -0.012439932990852887\n",
      "alpha:35.1, train: 0.0, test: -0.012439932990852887\n",
      "alpha:35.2, train: 0.0, test: -0.012439932990852887\n",
      "alpha:35.3, train: 0.0, test: -0.012439932990852887\n",
      "alpha:35.4, train: 0.0, test: -0.012439932990852887\n",
      "alpha:35.5, train: 0.0, test: -0.012439932990852887\n",
      "alpha:35.6, train: 0.0, test: -0.012439932990852887\n",
      "alpha:35.7, train: 0.0, test: -0.012439932990852887\n",
      "alpha:35.8, train: 0.0, test: -0.012439932990852887\n",
      "alpha:35.9, train: 0.0, test: -0.012439932990852887\n",
      "alpha:36.0, train: 0.0, test: -0.012439932990852887\n",
      "alpha:36.1, train: 0.0, test: -0.012439932990852887\n",
      "alpha:36.2, train: 0.0, test: -0.012439932990852887\n",
      "alpha:36.3, train: 0.0, test: -0.012439932990852887\n",
      "alpha:36.4, train: 0.0, test: -0.012439932990852887\n",
      "alpha:36.5, train: 0.0, test: -0.012439932990852887\n",
      "alpha:36.6, train: 0.0, test: -0.012439932990852887\n",
      "alpha:36.7, train: 0.0, test: -0.012439932990852887\n",
      "alpha:36.8, train: 0.0, test: -0.012439932990852887\n",
      "alpha:36.9, train: 0.0, test: -0.012439932990852887\n",
      "alpha:37.0, train: 0.0, test: -0.012439932990852887\n",
      "alpha:37.1, train: 0.0, test: -0.012439932990852887\n",
      "alpha:37.2, train: 0.0, test: -0.012439932990852887\n",
      "alpha:37.3, train: 0.0, test: -0.012439932990852887\n",
      "alpha:37.4, train: 0.0, test: -0.012439932990852887\n",
      "alpha:37.5, train: 0.0, test: -0.012439932990852887\n",
      "alpha:37.6, train: 0.0, test: -0.012439932990852887\n",
      "alpha:37.7, train: 0.0, test: -0.012439932990852887\n",
      "alpha:37.8, train: 0.0, test: -0.012439932990852887\n",
      "alpha:37.9, train: 0.0, test: -0.012439932990852887\n",
      "alpha:38.0, train: 0.0, test: -0.012439932990852887\n",
      "alpha:38.1, train: 0.0, test: -0.012439932990852887\n",
      "alpha:38.2, train: 0.0, test: -0.012439932990852887\n",
      "alpha:38.3, train: 0.0, test: -0.012439932990852887\n",
      "alpha:38.4, train: 0.0, test: -0.012439932990852887\n",
      "alpha:38.5, train: 0.0, test: -0.012439932990852887\n",
      "alpha:38.6, train: 0.0, test: -0.012439932990852887\n",
      "alpha:38.7, train: 0.0, test: -0.012439932990852887\n",
      "alpha:38.8, train: 0.0, test: -0.012439932990852887\n",
      "alpha:38.9, train: 0.0, test: -0.012439932990852887\n",
      "alpha:39.0, train: 0.0, test: -0.012439932990852887\n",
      "alpha:39.1, train: 0.0, test: -0.012439932990852887\n",
      "alpha:39.2, train: 0.0, test: -0.012439932990852887\n",
      "alpha:39.3, train: 0.0, test: -0.012439932990852887\n",
      "alpha:39.4, train: 0.0, test: -0.012439932990852887\n",
      "alpha:39.5, train: 0.0, test: -0.012439932990852887\n",
      "alpha:39.6, train: 0.0, test: -0.012439932990852887\n",
      "alpha:39.7, train: 0.0, test: -0.012439932990852887\n",
      "alpha:39.8, train: 0.0, test: -0.012439932990852887\n",
      "alpha:39.9, train: 0.0, test: -0.012439932990852887\n",
      "alpha:40.0, train: 0.0, test: -0.012439932990852887\n",
      "alpha:40.1, train: 0.0, test: -0.012439932990852887\n",
      "alpha:40.2, train: 0.0, test: -0.012439932990852887\n",
      "alpha:40.3, train: 0.0, test: -0.012439932990852887\n",
      "alpha:40.4, train: 0.0, test: -0.012439932990852887\n",
      "alpha:40.5, train: 0.0, test: -0.012439932990852887\n",
      "alpha:40.6, train: 0.0, test: -0.012439932990852887\n",
      "alpha:40.7, train: 0.0, test: -0.012439932990852887\n",
      "alpha:40.8, train: 0.0, test: -0.012439932990852887\n",
      "alpha:40.9, train: 0.0, test: -0.012439932990852887\n",
      "alpha:41.0, train: 0.0, test: -0.012439932990852887\n",
      "alpha:41.1, train: 0.0, test: -0.012439932990852887\n",
      "alpha:41.2, train: 0.0, test: -0.012439932990852887\n",
      "alpha:41.3, train: 0.0, test: -0.012439932990852887\n",
      "alpha:41.4, train: 0.0, test: -0.012439932990852887\n",
      "alpha:41.5, train: 0.0, test: -0.012439932990852887\n",
      "alpha:41.6, train: 0.0, test: -0.012439932990852887\n",
      "alpha:41.7, train: 0.0, test: -0.012439932990852887\n",
      "alpha:41.8, train: 0.0, test: -0.012439932990852887\n",
      "alpha:41.9, train: 0.0, test: -0.012439932990852887\n",
      "alpha:42.0, train: 0.0, test: -0.012439932990852887\n",
      "alpha:42.1, train: 0.0, test: -0.012439932990852887\n",
      "alpha:42.2, train: 0.0, test: -0.012439932990852887\n",
      "alpha:42.3, train: 0.0, test: -0.012439932990852887\n",
      "alpha:42.4, train: 0.0, test: -0.012439932990852887\n",
      "alpha:42.5, train: 0.0, test: -0.012439932990852887\n",
      "alpha:42.6, train: 0.0, test: -0.012439932990852887\n",
      "alpha:42.7, train: 0.0, test: -0.012439932990852887\n",
      "alpha:42.8, train: 0.0, test: -0.012439932990852887\n",
      "alpha:42.9, train: 0.0, test: -0.012439932990852887\n",
      "alpha:43.0, train: 0.0, test: -0.012439932990852887\n",
      "alpha:43.1, train: 0.0, test: -0.012439932990852887\n",
      "alpha:43.2, train: 0.0, test: -0.012439932990852887\n",
      "alpha:43.3, train: 0.0, test: -0.012439932990852887\n",
      "alpha:43.4, train: 0.0, test: -0.012439932990852887\n",
      "alpha:43.5, train: 0.0, test: -0.012439932990852887\n",
      "alpha:43.6, train: 0.0, test: -0.012439932990852887\n",
      "alpha:43.7, train: 0.0, test: -0.012439932990852887\n",
      "alpha:43.8, train: 0.0, test: -0.012439932990852887\n",
      "alpha:43.9, train: 0.0, test: -0.012439932990852887\n",
      "alpha:44.0, train: 0.0, test: -0.012439932990852887\n",
      "alpha:44.1, train: 0.0, test: -0.012439932990852887\n",
      "alpha:44.2, train: 0.0, test: -0.012439932990852887\n",
      "alpha:44.3, train: 0.0, test: -0.012439932990852887\n",
      "alpha:44.4, train: 0.0, test: -0.012439932990852887\n",
      "alpha:44.5, train: 0.0, test: -0.012439932990852887\n",
      "alpha:44.6, train: 0.0, test: -0.012439932990852887\n",
      "alpha:44.7, train: 0.0, test: -0.012439932990852887\n",
      "alpha:44.8, train: 0.0, test: -0.012439932990852887\n",
      "alpha:44.9, train: 0.0, test: -0.012439932990852887\n",
      "alpha:45.0, train: 0.0, test: -0.012439932990852887\n",
      "alpha:45.1, train: 0.0, test: -0.012439932990852887\n",
      "alpha:45.2, train: 0.0, test: -0.012439932990852887\n",
      "alpha:45.3, train: 0.0, test: -0.012439932990852887\n",
      "alpha:45.4, train: 0.0, test: -0.012439932990852887\n",
      "alpha:45.5, train: 0.0, test: -0.012439932990852887\n",
      "alpha:45.6, train: 0.0, test: -0.012439932990852887\n",
      "alpha:45.7, train: 0.0, test: -0.012439932990852887\n",
      "alpha:45.8, train: 0.0, test: -0.012439932990852887\n",
      "alpha:45.9, train: 0.0, test: -0.012439932990852887\n",
      "alpha:46.0, train: 0.0, test: -0.012439932990852887\n",
      "alpha:46.1, train: 0.0, test: -0.012439932990852887\n",
      "alpha:46.2, train: 0.0, test: -0.012439932990852887\n",
      "alpha:46.3, train: 0.0, test: -0.012439932990852887\n",
      "alpha:46.4, train: 0.0, test: -0.012439932990852887\n",
      "alpha:46.5, train: 0.0, test: -0.012439932990852887\n",
      "alpha:46.6, train: 0.0, test: -0.012439932990852887\n",
      "alpha:46.7, train: 0.0, test: -0.012439932990852887\n",
      "alpha:46.8, train: 0.0, test: -0.012439932990852887\n",
      "alpha:46.9, train: 0.0, test: -0.012439932990852887\n",
      "alpha:47.0, train: 0.0, test: -0.012439932990852887\n",
      "alpha:47.1, train: 0.0, test: -0.012439932990852887\n",
      "alpha:47.2, train: 0.0, test: -0.012439932990852887\n",
      "alpha:47.3, train: 0.0, test: -0.012439932990852887\n",
      "alpha:47.4, train: 0.0, test: -0.012439932990852887\n",
      "alpha:47.5, train: 0.0, test: -0.012439932990852887\n",
      "alpha:47.6, train: 0.0, test: -0.012439932990852887\n",
      "alpha:47.7, train: 0.0, test: -0.012439932990852887\n",
      "alpha:47.8, train: 0.0, test: -0.012439932990852887\n",
      "alpha:47.9, train: 0.0, test: -0.012439932990852887\n",
      "alpha:48.0, train: 0.0, test: -0.012439932990852887\n",
      "alpha:48.1, train: 0.0, test: -0.012439932990852887\n",
      "alpha:48.2, train: 0.0, test: -0.012439932990852887\n",
      "alpha:48.3, train: 0.0, test: -0.012439932990852887\n",
      "alpha:48.4, train: 0.0, test: -0.012439932990852887\n",
      "alpha:48.5, train: 0.0, test: -0.012439932990852887\n",
      "alpha:48.6, train: 0.0, test: -0.012439932990852887\n"
     ]
    },
    {
     "name": "stdout",
     "output_type": "stream",
     "text": [
      "alpha:48.7, train: 0.0, test: -0.012439932990852887\n",
      "alpha:48.8, train: 0.0, test: -0.012439932990852887\n",
      "alpha:48.9, train: 0.0, test: -0.012439932990852887\n",
      "alpha:49.0, train: 0.0, test: -0.012439932990852887\n",
      "alpha:49.1, train: 0.0, test: -0.012439932990852887\n",
      "alpha:49.2, train: 0.0, test: -0.012439932990852887\n",
      "alpha:49.3, train: 0.0, test: -0.012439932990852887\n",
      "alpha:49.4, train: 0.0, test: -0.012439932990852887\n",
      "alpha:49.5, train: 0.0, test: -0.012439932990852887\n",
      "alpha:49.6, train: 0.0, test: -0.012439932990852887\n",
      "alpha:49.7, train: 0.0, test: -0.012439932990852887\n",
      "alpha:49.8, train: 0.0, test: -0.012439932990852887\n",
      "alpha:49.9, train: 0.0, test: -0.012439932990852887\n",
      "alpha:50.0, train: 0.0, test: -0.012439932990852887\n",
      "alpha:50.1, train: 0.0, test: -0.012439932990852887\n",
      "alpha:50.2, train: 0.0, test: -0.012439932990852887\n",
      "alpha:50.3, train: 0.0, test: -0.012439932990852887\n",
      "alpha:50.4, train: 0.0, test: -0.012439932990852887\n",
      "alpha:50.5, train: 0.0, test: -0.012439932990852887\n",
      "alpha:50.6, train: 0.0, test: -0.012439932990852887\n",
      "alpha:50.7, train: 0.0, test: -0.012439932990852887\n",
      "alpha:50.8, train: 0.0, test: -0.012439932990852887\n",
      "alpha:50.9, train: 0.0, test: -0.012439932990852887\n",
      "alpha:51.0, train: 0.0, test: -0.012439932990852887\n",
      "alpha:51.1, train: 0.0, test: -0.012439932990852887\n",
      "alpha:51.2, train: 0.0, test: -0.012439932990852887\n",
      "alpha:51.3, train: 0.0, test: -0.012439932990852887\n",
      "alpha:51.4, train: 0.0, test: -0.012439932990852887\n",
      "alpha:51.5, train: 0.0, test: -0.012439932990852887\n",
      "alpha:51.6, train: 0.0, test: -0.012439932990852887\n",
      "alpha:51.7, train: 0.0, test: -0.012439932990852887\n",
      "alpha:51.8, train: 0.0, test: -0.012439932990852887\n",
      "alpha:51.9, train: 0.0, test: -0.012439932990852887\n",
      "alpha:52.0, train: 0.0, test: -0.012439932990852887\n",
      "alpha:52.1, train: 0.0, test: -0.012439932990852887\n",
      "alpha:52.2, train: 0.0, test: -0.012439932990852887\n",
      "alpha:52.3, train: 0.0, test: -0.012439932990852887\n",
      "alpha:52.4, train: 0.0, test: -0.012439932990852887\n",
      "alpha:52.5, train: 0.0, test: -0.012439932990852887\n",
      "alpha:52.6, train: 0.0, test: -0.012439932990852887\n",
      "alpha:52.7, train: 0.0, test: -0.012439932990852887\n",
      "alpha:52.8, train: 0.0, test: -0.012439932990852887\n",
      "alpha:52.9, train: 0.0, test: -0.012439932990852887\n",
      "alpha:53.0, train: 0.0, test: -0.012439932990852887\n",
      "alpha:53.1, train: 0.0, test: -0.012439932990852887\n",
      "alpha:53.2, train: 0.0, test: -0.012439932990852887\n",
      "alpha:53.3, train: 0.0, test: -0.012439932990852887\n",
      "alpha:53.4, train: 0.0, test: -0.012439932990852887\n",
      "alpha:53.5, train: 0.0, test: -0.012439932990852887\n",
      "alpha:53.6, train: 0.0, test: -0.012439932990852887\n",
      "alpha:53.7, train: 0.0, test: -0.012439932990852887\n",
      "alpha:53.8, train: 0.0, test: -0.012439932990852887\n",
      "alpha:53.9, train: 0.0, test: -0.012439932990852887\n",
      "alpha:54.0, train: 0.0, test: -0.012439932990852887\n",
      "alpha:54.1, train: 0.0, test: -0.012439932990852887\n",
      "alpha:54.2, train: 0.0, test: -0.012439932990852887\n",
      "alpha:54.3, train: 0.0, test: -0.012439932990852887\n",
      "alpha:54.4, train: 0.0, test: -0.012439932990852887\n",
      "alpha:54.5, train: 0.0, test: -0.012439932990852887\n",
      "alpha:54.6, train: 0.0, test: -0.012439932990852887\n",
      "alpha:54.7, train: 0.0, test: -0.012439932990852887\n",
      "alpha:54.8, train: 0.0, test: -0.012439932990852887\n",
      "alpha:54.9, train: 0.0, test: -0.012439932990852887\n",
      "alpha:55.0, train: 0.0, test: -0.012439932990852887\n",
      "alpha:55.1, train: 0.0, test: -0.012439932990852887\n",
      "alpha:55.2, train: 0.0, test: -0.012439932990852887\n",
      "alpha:55.3, train: 0.0, test: -0.012439932990852887\n",
      "alpha:55.4, train: 0.0, test: -0.012439932990852887\n",
      "alpha:55.5, train: 0.0, test: -0.012439932990852887\n",
      "alpha:55.6, train: 0.0, test: -0.012439932990852887\n",
      "alpha:55.7, train: 0.0, test: -0.012439932990852887\n",
      "alpha:55.8, train: 0.0, test: -0.012439932990852887\n",
      "alpha:55.9, train: 0.0, test: -0.012439932990852887\n",
      "alpha:56.0, train: 0.0, test: -0.012439932990852887\n",
      "alpha:56.1, train: 0.0, test: -0.012439932990852887\n",
      "alpha:56.2, train: 0.0, test: -0.012439932990852887\n",
      "alpha:56.3, train: 0.0, test: -0.012439932990852887\n",
      "alpha:56.4, train: 0.0, test: -0.012439932990852887\n",
      "alpha:56.5, train: 0.0, test: -0.012439932990852887\n",
      "alpha:56.6, train: 0.0, test: -0.012439932990852887\n",
      "alpha:56.7, train: 0.0, test: -0.012439932990852887\n",
      "alpha:56.8, train: 0.0, test: -0.012439932990852887\n",
      "alpha:56.9, train: 0.0, test: -0.012439932990852887\n",
      "alpha:57.0, train: 0.0, test: -0.012439932990852887\n",
      "alpha:57.1, train: 0.0, test: -0.012439932990852887\n",
      "alpha:57.2, train: 0.0, test: -0.012439932990852887\n",
      "alpha:57.3, train: 0.0, test: -0.012439932990852887\n",
      "alpha:57.4, train: 0.0, test: -0.012439932990852887\n",
      "alpha:57.5, train: 0.0, test: -0.012439932990852887\n",
      "alpha:57.6, train: 0.0, test: -0.012439932990852887\n",
      "alpha:57.7, train: 0.0, test: -0.012439932990852887\n",
      "alpha:57.8, train: 0.0, test: -0.012439932990852887\n",
      "alpha:57.9, train: 0.0, test: -0.012439932990852887\n",
      "alpha:58.0, train: 0.0, test: -0.012439932990852887\n",
      "alpha:58.1, train: 0.0, test: -0.012439932990852887\n",
      "alpha:58.2, train: 0.0, test: -0.012439932990852887\n",
      "alpha:58.3, train: 0.0, test: -0.012439932990852887\n",
      "alpha:58.4, train: 0.0, test: -0.012439932990852887\n",
      "alpha:58.5, train: 0.0, test: -0.012439932990852887\n",
      "alpha:58.6, train: 0.0, test: -0.012439932990852887\n",
      "alpha:58.7, train: 0.0, test: -0.012439932990852887\n",
      "alpha:58.8, train: 0.0, test: -0.012439932990852887\n",
      "alpha:58.9, train: 0.0, test: -0.012439932990852887\n",
      "alpha:59.0, train: 0.0, test: -0.012439932990852887\n",
      "alpha:59.1, train: 0.0, test: -0.012439932990852887\n",
      "alpha:59.2, train: 0.0, test: -0.012439932990852887\n",
      "alpha:59.3, train: 0.0, test: -0.012439932990852887\n",
      "alpha:59.4, train: 0.0, test: -0.012439932990852887\n",
      "alpha:59.5, train: 0.0, test: -0.012439932990852887\n",
      "alpha:59.6, train: 0.0, test: -0.012439932990852887\n",
      "alpha:59.7, train: 0.0, test: -0.012439932990852887\n",
      "alpha:59.8, train: 0.0, test: -0.012439932990852887\n",
      "alpha:59.9, train: 0.0, test: -0.012439932990852887\n",
      "alpha:60.0, train: 0.0, test: -0.012439932990852887\n",
      "alpha:60.1, train: 0.0, test: -0.012439932990852887\n",
      "alpha:60.2, train: 0.0, test: -0.012439932990852887\n",
      "alpha:60.3, train: 0.0, test: -0.012439932990852887\n",
      "alpha:60.4, train: 0.0, test: -0.012439932990852887\n",
      "alpha:60.5, train: 0.0, test: -0.012439932990852887\n",
      "alpha:60.6, train: 0.0, test: -0.012439932990852887\n",
      "alpha:60.7, train: 0.0, test: -0.012439932990852887\n",
      "alpha:60.8, train: 0.0, test: -0.012439932990852887\n",
      "alpha:60.9, train: 0.0, test: -0.012439932990852887\n",
      "alpha:61.0, train: 0.0, test: -0.012439932990852887\n",
      "alpha:61.1, train: 0.0, test: -0.012439932990852887\n",
      "alpha:61.2, train: 0.0, test: -0.012439932990852887\n",
      "alpha:61.3, train: 0.0, test: -0.012439932990852887\n",
      "alpha:61.4, train: 0.0, test: -0.012439932990852887\n",
      "alpha:61.5, train: 0.0, test: -0.012439932990852887\n",
      "alpha:61.6, train: 0.0, test: -0.012439932990852887\n",
      "alpha:61.7, train: 0.0, test: -0.012439932990852887\n",
      "alpha:61.8, train: 0.0, test: -0.012439932990852887\n",
      "alpha:61.9, train: 0.0, test: -0.012439932990852887\n",
      "alpha:62.0, train: 0.0, test: -0.012439932990852887\n",
      "alpha:62.1, train: 0.0, test: -0.012439932990852887\n",
      "alpha:62.2, train: 0.0, test: -0.012439932990852887\n",
      "alpha:62.3, train: 0.0, test: -0.012439932990852887\n",
      "alpha:62.4, train: 0.0, test: -0.012439932990852887\n",
      "alpha:62.5, train: 0.0, test: -0.012439932990852887\n",
      "alpha:62.6, train: 0.0, test: -0.012439932990852887\n",
      "alpha:62.7, train: 0.0, test: -0.012439932990852887\n",
      "alpha:62.8, train: 0.0, test: -0.012439932990852887\n",
      "alpha:62.9, train: 0.0, test: -0.012439932990852887\n",
      "alpha:63.0, train: 0.0, test: -0.012439932990852887\n",
      "alpha:63.1, train: 0.0, test: -0.012439932990852887\n",
      "alpha:63.2, train: 0.0, test: -0.012439932990852887\n",
      "alpha:63.3, train: 0.0, test: -0.012439932990852887\n",
      "alpha:63.4, train: 0.0, test: -0.012439932990852887\n",
      "alpha:63.5, train: 0.0, test: -0.012439932990852887\n",
      "alpha:63.6, train: 0.0, test: -0.012439932990852887\n",
      "alpha:63.7, train: 0.0, test: -0.012439932990852887\n",
      "alpha:63.8, train: 0.0, test: -0.012439932990852887\n",
      "alpha:63.9, train: 0.0, test: -0.012439932990852887\n",
      "alpha:64.0, train: 0.0, test: -0.012439932990852887\n",
      "alpha:64.1, train: 0.0, test: -0.012439932990852887\n",
      "alpha:64.2, train: 0.0, test: -0.012439932990852887\n",
      "alpha:64.3, train: 0.0, test: -0.012439932990852887\n",
      "alpha:64.4, train: 0.0, test: -0.012439932990852887\n",
      "alpha:64.5, train: 0.0, test: -0.012439932990852887\n",
      "alpha:64.6, train: 0.0, test: -0.012439932990852887\n",
      "alpha:64.7, train: 0.0, test: -0.012439932990852887\n",
      "alpha:64.8, train: 0.0, test: -0.012439932990852887\n",
      "alpha:64.9, train: 0.0, test: -0.012439932990852887\n",
      "alpha:65.0, train: 0.0, test: -0.012439932990852887\n",
      "alpha:65.1, train: 0.0, test: -0.012439932990852887\n",
      "alpha:65.2, train: 0.0, test: -0.012439932990852887\n",
      "alpha:65.3, train: 0.0, test: -0.012439932990852887\n"
     ]
    },
    {
     "name": "stdout",
     "output_type": "stream",
     "text": [
      "alpha:65.4, train: 0.0, test: -0.012439932990852887\n",
      "alpha:65.5, train: 0.0, test: -0.012439932990852887\n",
      "alpha:65.6, train: 0.0, test: -0.012439932990852887\n",
      "alpha:65.7, train: 0.0, test: -0.012439932990852887\n",
      "alpha:65.8, train: 0.0, test: -0.012439932990852887\n",
      "alpha:65.9, train: 0.0, test: -0.012439932990852887\n",
      "alpha:66.0, train: 0.0, test: -0.012439932990852887\n",
      "alpha:66.1, train: 0.0, test: -0.012439932990852887\n",
      "alpha:66.2, train: 0.0, test: -0.012439932990852887\n",
      "alpha:66.3, train: 0.0, test: -0.012439932990852887\n",
      "alpha:66.4, train: 0.0, test: -0.012439932990852887\n",
      "alpha:66.5, train: 0.0, test: -0.012439932990852887\n",
      "alpha:66.6, train: 0.0, test: -0.012439932990852887\n",
      "alpha:66.7, train: 0.0, test: -0.012439932990852887\n",
      "alpha:66.8, train: 0.0, test: -0.012439932990852887\n",
      "alpha:66.9, train: 0.0, test: -0.012439932990852887\n",
      "alpha:67.0, train: 0.0, test: -0.012439932990852887\n",
      "alpha:67.1, train: 0.0, test: -0.012439932990852887\n",
      "alpha:67.2, train: 0.0, test: -0.012439932990852887\n",
      "alpha:67.3, train: 0.0, test: -0.012439932990852887\n",
      "alpha:67.4, train: 0.0, test: -0.012439932990852887\n",
      "alpha:67.5, train: 0.0, test: -0.012439932990852887\n",
      "alpha:67.6, train: 0.0, test: -0.012439932990852887\n",
      "alpha:67.7, train: 0.0, test: -0.012439932990852887\n",
      "alpha:67.8, train: 0.0, test: -0.012439932990852887\n",
      "alpha:67.9, train: 0.0, test: -0.012439932990852887\n",
      "alpha:68.0, train: 0.0, test: -0.012439932990852887\n",
      "alpha:68.1, train: 0.0, test: -0.012439932990852887\n",
      "alpha:68.2, train: 0.0, test: -0.012439932990852887\n",
      "alpha:68.3, train: 0.0, test: -0.012439932990852887\n",
      "alpha:68.4, train: 0.0, test: -0.012439932990852887\n",
      "alpha:68.5, train: 0.0, test: -0.012439932990852887\n",
      "alpha:68.6, train: 0.0, test: -0.012439932990852887\n",
      "alpha:68.7, train: 0.0, test: -0.012439932990852887\n",
      "alpha:68.8, train: 0.0, test: -0.012439932990852887\n",
      "alpha:68.9, train: 0.0, test: -0.012439932990852887\n",
      "alpha:69.0, train: 0.0, test: -0.012439932990852887\n",
      "alpha:69.1, train: 0.0, test: -0.012439932990852887\n",
      "alpha:69.2, train: 0.0, test: -0.012439932990852887\n",
      "alpha:69.3, train: 0.0, test: -0.012439932990852887\n",
      "alpha:69.4, train: 0.0, test: -0.012439932990852887\n",
      "alpha:69.5, train: 0.0, test: -0.012439932990852887\n",
      "alpha:69.6, train: 0.0, test: -0.012439932990852887\n",
      "alpha:69.7, train: 0.0, test: -0.012439932990852887\n",
      "alpha:69.8, train: 0.0, test: -0.012439932990852887\n",
      "alpha:69.9, train: 0.0, test: -0.012439932990852887\n",
      "alpha:70.0, train: 0.0, test: -0.012439932990852887\n",
      "alpha:70.1, train: 0.0, test: -0.012439932990852887\n",
      "alpha:70.2, train: 0.0, test: -0.012439932990852887\n",
      "alpha:70.3, train: 0.0, test: -0.012439932990852887\n",
      "alpha:70.4, train: 0.0, test: -0.012439932990852887\n",
      "alpha:70.5, train: 0.0, test: -0.012439932990852887\n",
      "alpha:70.6, train: 0.0, test: -0.012439932990852887\n",
      "alpha:70.7, train: 0.0, test: -0.012439932990852887\n",
      "alpha:70.8, train: 0.0, test: -0.012439932990852887\n",
      "alpha:70.9, train: 0.0, test: -0.012439932990852887\n",
      "alpha:71.0, train: 0.0, test: -0.012439932990852887\n",
      "alpha:71.1, train: 0.0, test: -0.012439932990852887\n",
      "alpha:71.2, train: 0.0, test: -0.012439932990852887\n",
      "alpha:71.3, train: 0.0, test: -0.012439932990852887\n",
      "alpha:71.4, train: 0.0, test: -0.012439932990852887\n",
      "alpha:71.5, train: 0.0, test: -0.012439932990852887\n",
      "alpha:71.6, train: 0.0, test: -0.012439932990852887\n",
      "alpha:71.7, train: 0.0, test: -0.012439932990852887\n",
      "alpha:71.8, train: 0.0, test: -0.012439932990852887\n",
      "alpha:71.9, train: 0.0, test: -0.012439932990852887\n",
      "alpha:72.0, train: 0.0, test: -0.012439932990852887\n",
      "alpha:72.1, train: 0.0, test: -0.012439932990852887\n",
      "alpha:72.2, train: 0.0, test: -0.012439932990852887\n",
      "alpha:72.3, train: 0.0, test: -0.012439932990852887\n",
      "alpha:72.4, train: 0.0, test: -0.012439932990852887\n",
      "alpha:72.5, train: 0.0, test: -0.012439932990852887\n",
      "alpha:72.6, train: 0.0, test: -0.012439932990852887\n",
      "alpha:72.7, train: 0.0, test: -0.012439932990852887\n",
      "alpha:72.8, train: 0.0, test: -0.012439932990852887\n",
      "alpha:72.9, train: 0.0, test: -0.012439932990852887\n",
      "alpha:73.0, train: 0.0, test: -0.012439932990852887\n",
      "alpha:73.1, train: 0.0, test: -0.012439932990852887\n",
      "alpha:73.2, train: 0.0, test: -0.012439932990852887\n",
      "alpha:73.3, train: 0.0, test: -0.012439932990852887\n",
      "alpha:73.4, train: 0.0, test: -0.012439932990852887\n",
      "alpha:73.5, train: 0.0, test: -0.012439932990852887\n",
      "alpha:73.6, train: 0.0, test: -0.012439932990852887\n",
      "alpha:73.7, train: 0.0, test: -0.012439932990852887\n",
      "alpha:73.8, train: 0.0, test: -0.012439932990852887\n",
      "alpha:73.9, train: 0.0, test: -0.012439932990852887\n",
      "alpha:74.0, train: 0.0, test: -0.012439932990852887\n",
      "alpha:74.1, train: 0.0, test: -0.012439932990852887\n",
      "alpha:74.2, train: 0.0, test: -0.012439932990852887\n",
      "alpha:74.3, train: 0.0, test: -0.012439932990852887\n",
      "alpha:74.4, train: 0.0, test: -0.012439932990852887\n",
      "alpha:74.5, train: 0.0, test: -0.012439932990852887\n",
      "alpha:74.6, train: 0.0, test: -0.012439932990852887\n",
      "alpha:74.7, train: 0.0, test: -0.012439932990852887\n",
      "alpha:74.8, train: 0.0, test: -0.012439932990852887\n",
      "alpha:74.9, train: 0.0, test: -0.012439932990852887\n",
      "alpha:75.0, train: 0.0, test: -0.012439932990852887\n",
      "alpha:75.1, train: 0.0, test: -0.012439932990852887\n",
      "alpha:75.2, train: 0.0, test: -0.012439932990852887\n",
      "alpha:75.3, train: 0.0, test: -0.012439932990852887\n",
      "alpha:75.4, train: 0.0, test: -0.012439932990852887\n",
      "alpha:75.5, train: 0.0, test: -0.012439932990852887\n",
      "alpha:75.6, train: 0.0, test: -0.012439932990852887\n",
      "alpha:75.7, train: 0.0, test: -0.012439932990852887\n",
      "alpha:75.8, train: 0.0, test: -0.012439932990852887\n",
      "alpha:75.9, train: 0.0, test: -0.012439932990852887\n",
      "alpha:76.0, train: 0.0, test: -0.012439932990852887\n",
      "alpha:76.1, train: 0.0, test: -0.012439932990852887\n",
      "alpha:76.2, train: 0.0, test: -0.012439932990852887\n",
      "alpha:76.3, train: 0.0, test: -0.012439932990852887\n",
      "alpha:76.4, train: 0.0, test: -0.012439932990852887\n",
      "alpha:76.5, train: 0.0, test: -0.012439932990852887\n",
      "alpha:76.6, train: 0.0, test: -0.012439932990852887\n",
      "alpha:76.7, train: 0.0, test: -0.012439932990852887\n",
      "alpha:76.8, train: 0.0, test: -0.012439932990852887\n",
      "alpha:76.9, train: 0.0, test: -0.012439932990852887\n",
      "alpha:77.0, train: 0.0, test: -0.012439932990852887\n",
      "alpha:77.1, train: 0.0, test: -0.012439932990852887\n",
      "alpha:77.2, train: 0.0, test: -0.012439932990852887\n",
      "alpha:77.3, train: 0.0, test: -0.012439932990852887\n",
      "alpha:77.4, train: 0.0, test: -0.012439932990852887\n",
      "alpha:77.5, train: 0.0, test: -0.012439932990852887\n",
      "alpha:77.6, train: 0.0, test: -0.012439932990852887\n",
      "alpha:77.7, train: 0.0, test: -0.012439932990852887\n",
      "alpha:77.8, train: 0.0, test: -0.012439932990852887\n",
      "alpha:77.9, train: 0.0, test: -0.012439932990852887\n",
      "alpha:78.0, train: 0.0, test: -0.012439932990852887\n",
      "alpha:78.1, train: 0.0, test: -0.012439932990852887\n",
      "alpha:78.2, train: 0.0, test: -0.012439932990852887\n",
      "alpha:78.3, train: 0.0, test: -0.012439932990852887\n",
      "alpha:78.4, train: 0.0, test: -0.012439932990852887\n",
      "alpha:78.5, train: 0.0, test: -0.012439932990852887\n",
      "alpha:78.6, train: 0.0, test: -0.012439932990852887\n",
      "alpha:78.7, train: 0.0, test: -0.012439932990852887\n",
      "alpha:78.8, train: 0.0, test: -0.012439932990852887\n",
      "alpha:78.9, train: 0.0, test: -0.012439932990852887\n",
      "alpha:79.0, train: 0.0, test: -0.012439932990852887\n",
      "alpha:79.1, train: 0.0, test: -0.012439932990852887\n",
      "alpha:79.2, train: 0.0, test: -0.012439932990852887\n",
      "alpha:79.3, train: 0.0, test: -0.012439932990852887\n",
      "alpha:79.4, train: 0.0, test: -0.012439932990852887\n",
      "alpha:79.5, train: 0.0, test: -0.012439932990852887\n",
      "alpha:79.6, train: 0.0, test: -0.012439932990852887\n",
      "alpha:79.7, train: 0.0, test: -0.012439932990852887\n",
      "alpha:79.8, train: 0.0, test: -0.012439932990852887\n",
      "alpha:79.9, train: 0.0, test: -0.012439932990852887\n",
      "alpha:80.0, train: 0.0, test: -0.012439932990852887\n",
      "alpha:80.1, train: 0.0, test: -0.012439932990852887\n",
      "alpha:80.2, train: 0.0, test: -0.012439932990852887\n",
      "alpha:80.3, train: 0.0, test: -0.012439932990852887\n",
      "alpha:80.4, train: 0.0, test: -0.012439932990852887\n",
      "alpha:80.5, train: 0.0, test: -0.012439932990852887\n",
      "alpha:80.6, train: 0.0, test: -0.012439932990852887\n",
      "alpha:80.7, train: 0.0, test: -0.012439932990852887\n",
      "alpha:80.8, train: 0.0, test: -0.012439932990852887\n",
      "alpha:80.9, train: 0.0, test: -0.012439932990852887\n",
      "alpha:81.0, train: 0.0, test: -0.012439932990852887\n",
      "alpha:81.1, train: 0.0, test: -0.012439932990852887\n",
      "alpha:81.2, train: 0.0, test: -0.012439932990852887\n",
      "alpha:81.3, train: 0.0, test: -0.012439932990852887\n",
      "alpha:81.4, train: 0.0, test: -0.012439932990852887\n",
      "alpha:81.5, train: 0.0, test: -0.012439932990852887\n",
      "alpha:81.6, train: 0.0, test: -0.012439932990852887\n",
      "alpha:81.7, train: 0.0, test: -0.012439932990852887\n",
      "alpha:81.8, train: 0.0, test: -0.012439932990852887\n",
      "alpha:81.9, train: 0.0, test: -0.012439932990852887\n"
     ]
    },
    {
     "name": "stdout",
     "output_type": "stream",
     "text": [
      "alpha:82.0, train: 0.0, test: -0.012439932990852887\n",
      "alpha:82.1, train: 0.0, test: -0.012439932990852887\n",
      "alpha:82.2, train: 0.0, test: -0.012439932990852887\n",
      "alpha:82.3, train: 0.0, test: -0.012439932990852887\n",
      "alpha:82.4, train: 0.0, test: -0.012439932990852887\n",
      "alpha:82.5, train: 0.0, test: -0.012439932990852887\n",
      "alpha:82.6, train: 0.0, test: -0.012439932990852887\n",
      "alpha:82.7, train: 0.0, test: -0.012439932990852887\n",
      "alpha:82.8, train: 0.0, test: -0.012439932990852887\n",
      "alpha:82.9, train: 0.0, test: -0.012439932990852887\n",
      "alpha:83.0, train: 0.0, test: -0.012439932990852887\n",
      "alpha:83.1, train: 0.0, test: -0.012439932990852887\n",
      "alpha:83.2, train: 0.0, test: -0.012439932990852887\n",
      "alpha:83.3, train: 0.0, test: -0.012439932990852887\n",
      "alpha:83.4, train: 0.0, test: -0.012439932990852887\n",
      "alpha:83.5, train: 0.0, test: -0.012439932990852887\n",
      "alpha:83.6, train: 0.0, test: -0.012439932990852887\n",
      "alpha:83.7, train: 0.0, test: -0.012439932990852887\n",
      "alpha:83.8, train: 0.0, test: -0.012439932990852887\n",
      "alpha:83.9, train: 0.0, test: -0.012439932990852887\n",
      "alpha:84.0, train: 0.0, test: -0.012439932990852887\n",
      "alpha:84.1, train: 0.0, test: -0.012439932990852887\n",
      "alpha:84.2, train: 0.0, test: -0.012439932990852887\n",
      "alpha:84.3, train: 0.0, test: -0.012439932990852887\n",
      "alpha:84.4, train: 0.0, test: -0.012439932990852887\n",
      "alpha:84.5, train: 0.0, test: -0.012439932990852887\n",
      "alpha:84.6, train: 0.0, test: -0.012439932990852887\n",
      "alpha:84.7, train: 0.0, test: -0.012439932990852887\n",
      "alpha:84.8, train: 0.0, test: -0.012439932990852887\n",
      "alpha:84.9, train: 0.0, test: -0.012439932990852887\n",
      "alpha:85.0, train: 0.0, test: -0.012439932990852887\n",
      "alpha:85.1, train: 0.0, test: -0.012439932990852887\n",
      "alpha:85.2, train: 0.0, test: -0.012439932990852887\n",
      "alpha:85.3, train: 0.0, test: -0.012439932990852887\n",
      "alpha:85.4, train: 0.0, test: -0.012439932990852887\n",
      "alpha:85.5, train: 0.0, test: -0.012439932990852887\n",
      "alpha:85.6, train: 0.0, test: -0.012439932990852887\n",
      "alpha:85.7, train: 0.0, test: -0.012439932990852887\n",
      "alpha:85.8, train: 0.0, test: -0.012439932990852887\n",
      "alpha:85.9, train: 0.0, test: -0.012439932990852887\n",
      "alpha:86.0, train: 0.0, test: -0.012439932990852887\n",
      "alpha:86.1, train: 0.0, test: -0.012439932990852887\n",
      "alpha:86.2, train: 0.0, test: -0.012439932990852887\n",
      "alpha:86.3, train: 0.0, test: -0.012439932990852887\n",
      "alpha:86.4, train: 0.0, test: -0.012439932990852887\n",
      "alpha:86.5, train: 0.0, test: -0.012439932990852887\n",
      "alpha:86.6, train: 0.0, test: -0.012439932990852887\n",
      "alpha:86.7, train: 0.0, test: -0.012439932990852887\n",
      "alpha:86.8, train: 0.0, test: -0.012439932990852887\n",
      "alpha:86.9, train: 0.0, test: -0.012439932990852887\n",
      "alpha:87.0, train: 0.0, test: -0.012439932990852887\n",
      "alpha:87.1, train: 0.0, test: -0.012439932990852887\n",
      "alpha:87.2, train: 0.0, test: -0.012439932990852887\n",
      "alpha:87.3, train: 0.0, test: -0.012439932990852887\n",
      "alpha:87.4, train: 0.0, test: -0.012439932990852887\n",
      "alpha:87.5, train: 0.0, test: -0.012439932990852887\n",
      "alpha:87.6, train: 0.0, test: -0.012439932990852887\n",
      "alpha:87.7, train: 0.0, test: -0.012439932990852887\n",
      "alpha:87.8, train: 0.0, test: -0.012439932990852887\n",
      "alpha:87.9, train: 0.0, test: -0.012439932990852887\n",
      "alpha:88.0, train: 0.0, test: -0.012439932990852887\n",
      "alpha:88.1, train: 0.0, test: -0.012439932990852887\n",
      "alpha:88.2, train: 0.0, test: -0.012439932990852887\n",
      "alpha:88.3, train: 0.0, test: -0.012439932990852887\n",
      "alpha:88.4, train: 0.0, test: -0.012439932990852887\n",
      "alpha:88.5, train: 0.0, test: -0.012439932990852887\n",
      "alpha:88.6, train: 0.0, test: -0.012439932990852887\n",
      "alpha:88.7, train: 0.0, test: -0.012439932990852887\n",
      "alpha:88.8, train: 0.0, test: -0.012439932990852887\n",
      "alpha:88.9, train: 0.0, test: -0.012439932990852887\n",
      "alpha:89.0, train: 0.0, test: -0.012439932990852887\n",
      "alpha:89.1, train: 0.0, test: -0.012439932990852887\n",
      "alpha:89.2, train: 0.0, test: -0.012439932990852887\n",
      "alpha:89.3, train: 0.0, test: -0.012439932990852887\n",
      "alpha:89.4, train: 0.0, test: -0.012439932990852887\n",
      "alpha:89.5, train: 0.0, test: -0.012439932990852887\n",
      "alpha:89.6, train: 0.0, test: -0.012439932990852887\n",
      "alpha:89.7, train: 0.0, test: -0.012439932990852887\n",
      "alpha:89.8, train: 0.0, test: -0.012439932990852887\n",
      "alpha:89.9, train: 0.0, test: -0.012439932990852887\n",
      "alpha:90.0, train: 0.0, test: -0.012439932990852887\n",
      "alpha:90.1, train: 0.0, test: -0.012439932990852887\n",
      "alpha:90.2, train: 0.0, test: -0.012439932990852887\n",
      "alpha:90.3, train: 0.0, test: -0.012439932990852887\n",
      "alpha:90.4, train: 0.0, test: -0.012439932990852887\n",
      "alpha:90.5, train: 0.0, test: -0.012439932990852887\n",
      "alpha:90.6, train: 0.0, test: -0.012439932990852887\n",
      "alpha:90.7, train: 0.0, test: -0.012439932990852887\n",
      "alpha:90.8, train: 0.0, test: -0.012439932990852887\n",
      "alpha:90.9, train: 0.0, test: -0.012439932990852887\n",
      "alpha:91.0, train: 0.0, test: -0.012439932990852887\n",
      "alpha:91.1, train: 0.0, test: -0.012439932990852887\n",
      "alpha:91.2, train: 0.0, test: -0.012439932990852887\n",
      "alpha:91.3, train: 0.0, test: -0.012439932990852887\n",
      "alpha:91.4, train: 0.0, test: -0.012439932990852887\n",
      "alpha:91.5, train: 0.0, test: -0.012439932990852887\n",
      "alpha:91.6, train: 0.0, test: -0.012439932990852887\n",
      "alpha:91.7, train: 0.0, test: -0.012439932990852887\n",
      "alpha:91.8, train: 0.0, test: -0.012439932990852887\n",
      "alpha:91.9, train: 0.0, test: -0.012439932990852887\n",
      "alpha:92.0, train: 0.0, test: -0.012439932990852887\n",
      "alpha:92.1, train: 0.0, test: -0.012439932990852887\n",
      "alpha:92.2, train: 0.0, test: -0.012439932990852887\n",
      "alpha:92.3, train: 0.0, test: -0.012439932990852887\n",
      "alpha:92.4, train: 0.0, test: -0.012439932990852887\n",
      "alpha:92.5, train: 0.0, test: -0.012439932990852887\n",
      "alpha:92.6, train: 0.0, test: -0.012439932990852887\n",
      "alpha:92.7, train: 0.0, test: -0.012439932990852887\n",
      "alpha:92.8, train: 0.0, test: -0.012439932990852887\n",
      "alpha:92.9, train: 0.0, test: -0.012439932990852887\n",
      "alpha:93.0, train: 0.0, test: -0.012439932990852887\n",
      "alpha:93.1, train: 0.0, test: -0.012439932990852887\n",
      "alpha:93.2, train: 0.0, test: -0.012439932990852887\n",
      "alpha:93.3, train: 0.0, test: -0.012439932990852887\n",
      "alpha:93.4, train: 0.0, test: -0.012439932990852887\n",
      "alpha:93.5, train: 0.0, test: -0.012439932990852887\n",
      "alpha:93.6, train: 0.0, test: -0.012439932990852887\n",
      "alpha:93.7, train: 0.0, test: -0.012439932990852887\n",
      "alpha:93.8, train: 0.0, test: -0.012439932990852887\n",
      "alpha:93.9, train: 0.0, test: -0.012439932990852887\n",
      "alpha:94.0, train: 0.0, test: -0.012439932990852887\n",
      "alpha:94.1, train: 0.0, test: -0.012439932990852887\n",
      "alpha:94.2, train: 0.0, test: -0.012439932990852887\n",
      "alpha:94.3, train: 0.0, test: -0.012439932990852887\n",
      "alpha:94.4, train: 0.0, test: -0.012439932990852887\n",
      "alpha:94.5, train: 0.0, test: -0.012439932990852887\n",
      "alpha:94.6, train: 0.0, test: -0.012439932990852887\n",
      "alpha:94.7, train: 0.0, test: -0.012439932990852887\n",
      "alpha:94.8, train: 0.0, test: -0.012439932990852887\n",
      "alpha:94.9, train: 0.0, test: -0.012439932990852887\n",
      "alpha:95.0, train: 0.0, test: -0.012439932990852887\n",
      "alpha:95.1, train: 0.0, test: -0.012439932990852887\n",
      "alpha:95.2, train: 0.0, test: -0.012439932990852887\n",
      "alpha:95.3, train: 0.0, test: -0.012439932990852887\n",
      "alpha:95.4, train: 0.0, test: -0.012439932990852887\n",
      "alpha:95.5, train: 0.0, test: -0.012439932990852887\n",
      "alpha:95.6, train: 0.0, test: -0.012439932990852887\n",
      "alpha:95.7, train: 0.0, test: -0.012439932990852887\n",
      "alpha:95.8, train: 0.0, test: -0.012439932990852887\n",
      "alpha:95.9, train: 0.0, test: -0.012439932990852887\n",
      "alpha:96.0, train: 0.0, test: -0.012439932990852887\n",
      "alpha:96.1, train: 0.0, test: -0.012439932990852887\n",
      "alpha:96.2, train: 0.0, test: -0.012439932990852887\n",
      "alpha:96.3, train: 0.0, test: -0.012439932990852887\n",
      "alpha:96.4, train: 0.0, test: -0.012439932990852887\n",
      "alpha:96.5, train: 0.0, test: -0.012439932990852887\n",
      "alpha:96.6, train: 0.0, test: -0.012439932990852887\n",
      "alpha:96.7, train: 0.0, test: -0.012439932990852887\n",
      "alpha:96.8, train: 0.0, test: -0.012439932990852887\n",
      "alpha:96.9, train: 0.0, test: -0.012439932990852887\n",
      "alpha:97.0, train: 0.0, test: -0.012439932990852887\n",
      "alpha:97.1, train: 0.0, test: -0.012439932990852887\n",
      "alpha:97.2, train: 0.0, test: -0.012439932990852887\n",
      "alpha:97.3, train: 0.0, test: -0.012439932990852887\n",
      "alpha:97.4, train: 0.0, test: -0.012439932990852887\n",
      "alpha:97.5, train: 0.0, test: -0.012439932990852887\n",
      "alpha:97.6, train: 0.0, test: -0.012439932990852887\n",
      "alpha:97.7, train: 0.0, test: -0.012439932990852887\n",
      "alpha:97.8, train: 0.0, test: -0.012439932990852887\n",
      "alpha:97.9, train: 0.0, test: -0.012439932990852887\n",
      "alpha:98.0, train: 0.0, test: -0.012439932990852887\n",
      "alpha:98.1, train: 0.0, test: -0.012439932990852887\n",
      "alpha:98.2, train: 0.0, test: -0.012439932990852887\n",
      "alpha:98.3, train: 0.0, test: -0.012439932990852887\n",
      "alpha:98.4, train: 0.0, test: -0.012439932990852887\n",
      "alpha:98.5, train: 0.0, test: -0.012439932990852887\n"
     ]
    },
    {
     "name": "stdout",
     "output_type": "stream",
     "text": [
      "alpha:98.6, train: 0.0, test: -0.012439932990852887\n",
      "alpha:98.7, train: 0.0, test: -0.012439932990852887\n",
      "alpha:98.8, train: 0.0, test: -0.012439932990852887\n",
      "alpha:98.9, train: 0.0, test: -0.012439932990852887\n",
      "alpha:99.0, train: 0.0, test: -0.012439932990852887\n",
      "alpha:99.1, train: 0.0, test: -0.012439932990852887\n",
      "alpha:99.2, train: 0.0, test: -0.012439932990852887\n",
      "alpha:99.3, train: 0.0, test: -0.012439932990852887\n",
      "alpha:99.4, train: 0.0, test: -0.012439932990852887\n",
      "alpha:99.5, train: 0.0, test: -0.012439932990852887\n",
      "alpha:99.6, train: 0.0, test: -0.012439932990852887\n",
      "alpha:99.7, train: 0.0, test: -0.012439932990852887\n",
      "alpha:99.8, train: 0.0, test: -0.012439932990852887\n",
      "alpha:99.9, train: 0.0, test: -0.012439932990852887\n"
     ]
    }
   ],
   "source": [
    "minimum_score = -100\n",
    "minimum_alpha = 0\n",
    "best_model = None\n",
    "\n",
    "cross_mean = -100\n",
    "cross_alpha = 0\n",
    "cross_best = None\n",
    "\n",
    "for i in list(range(0, 100, 1)):\n",
    "    i = i/10\n",
    "    \n",
    "    lm = Lasso(alpha=i)\n",
    "    lm.fit(X_train, y_train)\n",
    "    \n",
    "    \n",
    "    train_score = lm.score(X_train, y_train)\n",
    "    test_score = lm.score(X_test, y_test)\n",
    "    \n",
    "    print('alpha:{}, train: {}, test: {}'.format(i, train_score, test_score))\n",
    "    \n",
    "    if minimum_score < test_score:\n",
    "        minimum_score = test_score\n",
    "        minimum_alpha = i\n",
    "        best_model = lm\n",
    "    \n",
    "    # cross validation scores\n",
    "    cross_scores = cross_val_score(rm, X, y, cv=5)\n",
    "    _cross_mean, _corss_std = cross_scores.mean(), cross_scores.std()\n",
    "        \n",
    "    if cross_mean < _cross_mean:\n",
    "        cross_mean = _cross_mean\n",
    "        cross_alpha = i\n",
    "        cross_best = lm\n",
    "\n"
   ]
  },
  {
   "cell_type": "code",
   "execution_count": null,
   "metadata": {},
   "outputs": [],
   "source": []
  },
  {
   "cell_type": "code",
   "execution_count": 922,
   "metadata": {},
   "outputs": [
    {
     "data": {
      "text/plain": [
       "0.761435378957237"
      ]
     },
     "execution_count": 922,
     "metadata": {},
     "output_type": "execute_result"
    }
   ],
   "source": [
    "cross_best.score(X_test, y_test)"
   ]
  },
  {
   "cell_type": "code",
   "execution_count": 924,
   "metadata": {},
   "outputs": [
    {
     "data": {
      "text/plain": [
       "<BarContainer object of 104 artists>"
      ]
     },
     "execution_count": 924,
     "metadata": {},
     "output_type": "execute_result"
    },
    {
     "data": {
      "image/png": "[encoded data removed]",
      "text/plain": [
       "<Figure size 1440x720 with 1 Axes>"
      ]
     },
     "metadata": {
      "needs_background": "light"
     },
     "output_type": "display_data"
    }
   ],
   "source": [
    "cross_best.score(X_test, y_test)\n",
    "n = np.arange(len(cross_best.coef_))\n",
    "\n",
    "plt.figure(figsize=(20,10))\n",
    "plt.bar(n, np.sort(cross_best.coef_, axis=0))"
   ]
  },
  {
   "cell_type": "code",
   "execution_count": 931,
   "metadata": {},
   "outputs": [
    {
     "name": "stderr",
     "output_type": "stream",
     "text": [
      "/Users/Mac/anaconda3/envs/lecture_env/lib/python3.7/site-packages/ipykernel_launcher.py:11: UserWarning: With alpha=0, this algorithm does not converge well. You are advised to use the LinearRegression estimator\n",
      "  # This is added back by InteractiveShellApp.init_path()\n",
      "/Users/Mac/anaconda3/envs/lecture_env/lib/python3.7/site-packages/sklearn/linear_model/coordinate_descent.py:478: UserWarning: Coordinate descent with no regularization may lead to unexpected results and is discouraged.\n",
      "  positive)\n",
      "/Users/Mac/anaconda3/envs/lecture_env/lib/python3.7/site-packages/sklearn/linear_model/coordinate_descent.py:492: ConvergenceWarning: Objective did not converge. You might want to increase the number of iterations. Fitting data with very small alpha may cause precision problems.\n",
      "  ConvergenceWarning)\n"
     ]
    },
    {
     "data": {
      "text/plain": [
       "Lasso(alpha=8, copy_X=True, fit_intercept=True, max_iter=1000,\n",
       "   normalize=False, positive=False, precompute=False, random_state=None,\n",
       "   selection='cyclic', tol=0.0001, warm_start=False)"
      ]
     },
     "execution_count": 931,
     "metadata": {},
     "output_type": "execute_result"
    }
   ],
   "source": [
    "# 만약 알파값이 늘어나면??\n",
    "lm = Lasso(alpha=0)\n",
    "lm1 = Lasso(alpha=.1)\n",
    "lm2 = Lasso(alpha=.5)\n",
    "lm3 = Lasso(alpha=1)\n",
    "lm4 = Lasso(alpha=2)\n",
    "lm5 = Lasso(alpha=4)\n",
    "lm6 = Lasso(alpha=8)\n",
    "\n",
    "\n",
    "lm.fit(X_train, y_train)\n",
    "lm1.fit(X_train, y_train)\n",
    "lm2.fit(X_train, y_train)\n",
    "lm3.fit(X_train, y_train)\n",
    "lm4.fit(X_train, y_train)\n",
    "lm5.fit(X_train, y_train)\n",
    "lm6.fit(X_train, y_train)\n"
   ]
  },
  {
   "cell_type": "code",
   "execution_count": 932,
   "metadata": {},
   "outputs": [
    {
     "data": {
      "image/png": "[encoded data removed]",
      "text/plain": [
       "<Figure size 1440x2160 with 5 Axes>"
      ]
     },
     "metadata": {
      "needs_background": "light"
     },
     "output_type": "display_data"
    }
   ],
   "source": [
    "n = np.arange(len(lm.coef_))\n",
    "\n",
    "plt.figure(figsize=(20,30))\n",
    "plt.subplot(3,2,1)\n",
    "plt.bar(n, np.sort(lm.coef_, axis=0))\n",
    "\n",
    "plt.subplot(3,2,2)\n",
    "plt.bar(n, np.sort(lm1.coef_, axis=0))\n",
    "\n",
    "plt.subplot(3,2,3)\n",
    "plt.bar(n, np.sort(lm2.coef_, axis=0))\n",
    "\n",
    "plt.subplot(3,2,4)\n",
    "plt.bar(n, np.sort(lm3.coef_, axis=0))\n",
    "\n",
    "plt.subplot(3,2,5)\n",
    "plt.bar(n, np.sort(lm4.coef_, axis=0))\n",
    "plt.show()"
   ]
  },
  {
   "cell_type": "code",
   "execution_count": 933,
   "metadata": {},
   "outputs": [
    {
     "data": {
      "text/plain": [
       "array([-0.,  0., -0.,  0., -0.,  0., -0.,  0., -0., -0., -0.,  0., -0.,\n",
       "       -0.,  0., -0.,  0., -0., -0., -0., -0., -0., -0., -0., -0., -0.,\n",
       "        0.,  0.,  0.,  0.,  0.,  0.,  0.,  0.,  0.,  0.,  0.,  0., -0.,\n",
       "        0., -0., -0., -0., -0., -0., -0., -0., -0., -0.,  0.,  0.,  0.,\n",
       "        0.,  0.,  0.,  0.,  0.,  0.,  0., -0., -0., -0., -0., -0., -0.,\n",
       "       -0., -0., -0.,  0., -0.,  0., -0., -0., -0.,  0., -0., -0.,  0.,\n",
       "       -0., -0., -0., -0., -0.,  0., -0., -0.,  0.,  0., -0., -0., -0.,\n",
       "       -0., -0., -0., -0., -0., -0., -0., -0., -0., -0.,  0., -0., -0.])"
      ]
     },
     "execution_count": 933,
     "metadata": {},
     "output_type": "execute_result"
    }
   ],
   "source": [
    "lm6.coef_"
   ]
  },
  {
   "cell_type": "code",
   "execution_count": null,
   "metadata": {},
   "outputs": [],
   "source": []
  },
  {
   "cell_type": "code",
   "execution_count": null,
   "metadata": {},
   "outputs": [],
   "source": []
  },
  {
   "cell_type": "code",
   "execution_count": 842,
   "metadata": {},
   "outputs": [],
   "source": [
    "_list = []\n",
    "for x in range(100):\n",
    "    X_train, X_test, y_train, y_test = train_test_split(X, y, test_size=.2, shuffle=True, random_state=x)\n",
    "    lm = LinearRegression()\n",
    "    lm.fit(X_train, y_train)\n",
    "    _list.append((abs(lm.score(X_train, y_train) - lm.score(X_test, y_test)), x))\n",
    "\n"
   ]
  },
  {
   "cell_type": "code",
   "execution_count": 843,
   "metadata": {},
   "outputs": [
    {
     "data": {
      "text/plain": [
       "[(0.3331382382534046, 0),\n",
       " (0.01478029015290061, 1),\n",
       " (0.033228956148724786, 2),\n",
       " (0.07049759812203338, 3),\n",
       " (0.09560605475778361, 4),\n",
       " (0.06206250958523918, 5),\n",
       " (0.30133439587771416, 6),\n",
       " (0.31578747159858045, 7),\n",
       " (0.08792445140745375, 8),\n",
       " (0.057948367317298466, 9),\n",
       " (0.056925667537315094, 10),\n",
       " (0.139994010124611, 11),\n",
       " (0.12860870139434577, 12),\n",
       " (0.08938436240001568, 13),\n",
       " (0.19090361201127493, 14),\n",
       " (0.06723936454673307, 15),\n",
       " (0.14388613037135545, 16),\n",
       " (0.13044390855808696, 17),\n",
       " (0.1420332685936896, 18),\n",
       " (0.13981945082849978, 19),\n",
       " (0.2677587624578325, 20),\n",
       " (0.1128266494869461, 21),\n",
       " (0.230122581262711, 22),\n",
       " (0.2197886828169604, 23),\n",
       " (0.28282869309758574, 24),\n",
       " (0.08478956523599601, 25),\n",
       " (0.1689315497857371, 26),\n",
       " (0.10663737797750883, 27),\n",
       " (0.18787262055922882, 28),\n",
       " (0.1354754110579115, 29),\n",
       " (0.12570659453643618, 30),\n",
       " (0.06872704310250466, 31),\n",
       " (0.037324270180780994, 32),\n",
       " (0.06225102223223211, 33),\n",
       " (0.046319938312373354, 34),\n",
       " (0.1098431339305902, 35),\n",
       " (0.1278392744191238, 36),\n",
       " (0.2782641751328121, 37),\n",
       " (0.0843054695550205, 38),\n",
       " (0.051656610494665856, 39),\n",
       " (0.09500105690208938, 40),\n",
       " (0.7585840806501044, 41),\n",
       " (0.1353487579141307, 42),\n",
       " (0.11698898414239156, 43),\n",
       " (0.19695981971536647, 44),\n",
       " (0.04148089415021283, 45),\n",
       " (0.08638515014004233, 46),\n",
       " (0.07907372213345909, 47),\n",
       " (0.11699472136400757, 48),\n",
       " (0.1271893264906071, 49),\n",
       " (0.04622923513217558, 50),\n",
       " (0.07990708184292805, 51),\n",
       " (0.08715971931914612, 52),\n",
       " (0.048872836127440755, 53),\n",
       " (0.17584547802601425, 54),\n",
       " (0.06415825963728605, 55),\n",
       " (0.07366261507851768, 56),\n",
       " (0.05661265096022383, 57),\n",
       " (0.09326315169391586, 58),\n",
       " (0.0490659238591592, 59),\n",
       " (0.11528807396388929, 60),\n",
       " (0.15289630237074914, 61),\n",
       " (0.036253030615641446, 62),\n",
       " (0.12061926388489586, 63),\n",
       " (0.08040268632957426, 64),\n",
       " (0.15838241456877333, 65),\n",
       " (0.05852295669913821, 66),\n",
       " (0.10966845310318529, 67),\n",
       " (0.14398597299172355, 68),\n",
       " (0.20479885497976047, 69),\n",
       " (0.03415371760950536, 70),\n",
       " (0.13852392457110763, 71),\n",
       " (0.08113487451389356, 72),\n",
       " (0.11762396501070893, 73),\n",
       " (0.13702071582207165, 74),\n",
       " (0.1321276849323818, 75),\n",
       " (0.2132688272961586, 76),\n",
       " (0.10018185333347107, 77),\n",
       " (0.04027620141748722, 78),\n",
       " (0.0878292984027822, 79),\n",
       " (0.17085582774027197, 80),\n",
       " (0.29219796616611027, 81),\n",
       " (0.07883420339968927, 82),\n",
       " (0.10680181553096313, 83),\n",
       " (0.0607818417456768, 84),\n",
       " (0.05197151076832229, 85),\n",
       " (0.04236853891784853, 86),\n",
       " (0.14379615208223362, 87),\n",
       " (0.08384819121010678, 88),\n",
       " (0.04831157529806973, 89),\n",
       " (0.11040295962787194, 90),\n",
       " (0.16512407681770658, 91),\n",
       " (0.12786533445854686, 92),\n",
       " (0.2873539917296377, 93),\n",
       " (0.041587582724735506, 94),\n",
       " (0.08152470865561467, 95),\n",
       " (0.08945540524017548, 96),\n",
       " (0.08674506285850758, 97),\n",
       " (0.12414391362814758, 98),\n",
       " (0.1777341112691978, 99)]"
      ]
     },
     "execution_count": 843,
     "metadata": {},
     "output_type": "execute_result"
    }
   ],
   "source": [
    "_list"
   ]
  },
  {
   "cell_type": "code",
   "execution_count": null,
   "metadata": {},
   "outputs": [],
   "source": []
  },
  {
   "cell_type": "code",
   "execution_count": null,
   "metadata": {},
   "outputs": [],
   "source": []
  },
  {
   "cell_type": "code",
   "execution_count": null,
   "metadata": {},
   "outputs": [],
   "source": []
  },
  {
   "cell_type": "code",
   "execution_count": null,
   "metadata": {},
   "outputs": [],
   "source": []
  },
  {
   "cell_type": "code",
   "execution_count": null,
   "metadata": {},
   "outputs": [],
   "source": []
  },
  {
   "cell_type": "code",
   "execution_count": null,
   "metadata": {},
   "outputs": [],
   "source": []
  },
  {
   "cell_type": "code",
   "execution_count": null,
   "metadata": {},
   "outputs": [],
   "source": []
  },
  {
   "cell_type": "code",
   "execution_count": null,
   "metadata": {},
   "outputs": [],
   "source": []
  },
  {
   "cell_type": "code",
   "execution_count": null,
   "metadata": {},
   "outputs": [],
   "source": []
  },
  {
   "cell_type": "code",
   "execution_count": null,
   "metadata": {},
   "outputs": [],
   "source": []
  },
  {
   "cell_type": "code",
   "execution_count": null,
   "metadata": {},
   "outputs": [],
   "source": []
  },
  {
   "cell_type": "code",
   "execution_count": null,
   "metadata": {},
   "outputs": [],
   "source": []
  },
  {
   "cell_type": "code",
   "execution_count": null,
   "metadata": {},
   "outputs": [],
   "source": []
  },
  {
   "cell_type": "code",
   "execution_count": null,
   "metadata": {},
   "outputs": [],
   "source": []
  }
 ],
 "metadata": {
  "kernelspec": {
   "display_name": "Python 3",
   "language": "python",
   "name": "python3"
  },
  "language_info": {
   "codemirror_mode": {
    "name": "ipython",
    "version": 3
   },
   "file_extension": ".py",
   "mimetype": "text/x-python",
   "name": "python",
   "nbconvert_exporter": "python",
   "pygments_lexer": "ipython3",
   "version": "3.7.3"
  }
 },
 "nbformat": 4,
 "nbformat_minor": 2
}
